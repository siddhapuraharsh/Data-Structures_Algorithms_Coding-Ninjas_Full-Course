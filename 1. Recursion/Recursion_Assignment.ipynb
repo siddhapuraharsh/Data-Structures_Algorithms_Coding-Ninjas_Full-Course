{
  "nbformat": 4,
  "nbformat_minor": 0,
  "metadata": {
    "colab": {
      "name": "Recursion-Assignment",
      "provenance": [],
      "collapsed_sections": []
    },
    "kernelspec": {
      "name": "python3",
      "display_name": "Python 3"
    },
    "language_info": {
      "name": "python"
    }
  },
  "cells": [
    {
      "cell_type": "markdown",
      "source": [
        "**ASSIGNMENT PROBLEMS**"
      ],
      "metadata": {
        "id": "foVv3iJ4Dlc_"
      }
    },
    {
      "cell_type": "code",
      "execution_count": null,
      "metadata": {
        "colab": {
          "base_uri": "https://localhost:8080/"
        },
        "id": "B8_ceMo6CgwQ",
        "outputId": "2eff3838-bb73-42dc-c1bc-c2668a8c4e4e"
      },
      "outputs": [
        {
          "output_type": "stream",
          "name": "stdout",
          "text": [
            "4\n",
            "1.93750\n"
          ]
        }
      ],
      "source": [
        "'''\n",
        "Geometric Sum\n",
        "Given k, find the geometric sum i.e.\n",
        "1 + 1/2 + 1/4 + 1/8 + ... + 1/(2^k) using recursion.\n",
        "\n",
        "Input format :\n",
        "Integer k\n",
        "Output format :\n",
        "Geometric sum (upto 5 decimal places)\n",
        "\n",
        "Sample Input 1 :\n",
        "3\n",
        "Sample Output 1 :\n",
        "1.87500\n",
        "\n",
        "Sample Input 2 :\n",
        "4\n",
        "Sample Output 2 :\n",
        "1.93750\n",
        "'''\n",
        "\n",
        "def geo_sum(k):\n",
        "    if k==0 :\n",
        "        return 1\n",
        "    return (1/(2**k)) + (geo_sum(k-1))\n",
        "\n",
        "k = int(input())\n",
        "print(\"{:.5f}\".format(geo_sum(k)))"
      ]
    },
    {
      "cell_type": "code",
      "source": [
        "'''\n",
        "Check Palindrome (recursive)\n",
        "Check whether a given String S is a palindrome using recursion. Return true or false.\n",
        "\n",
        "Input Format :\n",
        "String S\n",
        "Output Format :\n",
        "'true' or 'false'\n",
        "\n",
        "Sample Input 1 :\n",
        "racecar\n",
        "Sample Output 1:\n",
        "true\n",
        "\n",
        "Sample Input 2 :\n",
        "ninja\n",
        "Sample Output 2:\n",
        "false\n",
        "'''\n",
        "\n",
        "def palindrome(s, start, end):\n",
        "    if start>=end:\n",
        "        return \"true\"\n",
        "    \n",
        "    if s[start]==s[end] :\n",
        "        return palindrome(s, start+1, end-1)\n",
        "    else:\n",
        "        return \"false\"\n",
        "    \n",
        "s = input()\n",
        "start = 0\n",
        "end = len(s)-1\n",
        "print(palindrome(s, start, end))"
      ],
      "metadata": {
        "colab": {
          "base_uri": "https://localhost:8080/"
        },
        "id": "vBrn02ZLDtJ1",
        "outputId": "d9bb2b87-5fbb-47b4-f7a7-ab4c0c4ca587"
      },
      "execution_count": null,
      "outputs": [
        {
          "output_type": "stream",
          "name": "stdout",
          "text": [
            "ninja\n",
            "false\n"
          ]
        }
      ]
    },
    {
      "cell_type": "code",
      "source": [
        "'''\n",
        "Sum of digits (recursive)\n",
        "Write a recursive function that returns the sum of the digits of a given integer.\n",
        "\n",
        "Input format :\n",
        "Integer N\n",
        "Output format :\n",
        "Sum of digits of N\n",
        "\n",
        "Sample Input 1 :\n",
        "12345\n",
        "Sample Output 1 :\n",
        "15\n",
        "\n",
        "Sample Input 2 :\n",
        "9\n",
        "Sample Output 2 :\n",
        "9\n",
        "'''\n",
        "\n",
        "def sum_digit(n):\n",
        "    if n==0 :\n",
        "        return 0\n",
        "    \n",
        "    return n%10 + sum_digit(n//10)\n",
        "\n",
        "n = int(input())\n",
        "print(sum_digit(n))"
      ],
      "metadata": {
        "colab": {
          "base_uri": "https://localhost:8080/"
        },
        "id": "4qjoXb_0DxhP",
        "outputId": "f64a2b0d-2f18-40e8-f35f-6c214ef0991f"
      },
      "execution_count": null,
      "outputs": [
        {
          "output_type": "stream",
          "name": "stdout",
          "text": [
            "12345\n",
            "15\n"
          ]
        }
      ]
    },
    {
      "cell_type": "code",
      "source": [
        "'''\n",
        "Multiplication (Recursive)\n",
        "\n",
        "Given two integers M & N, calculate and return their multiplication using recursion. You can only use subtraction and addition for your calculation. No other operators are allowed.\n",
        "\n",
        "Input format :\n",
        "Line 1 : Integer M\n",
        "Line 2 : Integer N\n",
        "Output format :\n",
        "M x N\n",
        "\n",
        "Constraints :\n",
        "0 <= M <= 1000\n",
        "0 <= N <= 1000\n",
        "\n",
        "Sample Input 1 :\n",
        "3 \n",
        "5\n",
        "Sample Output 1 :\n",
        "15\n",
        "\n",
        "Sample Input 2 :\n",
        "4 \n",
        "0\n",
        "Sample Output 2 :\n",
        "0\n",
        "'''\n",
        "\n",
        "# Multiply two numbers using recursion\n",
        "\n",
        "def multiply(m,n):\n",
        "    \n",
        "    if m<n:\n",
        "        return multiply(n,m)\n",
        "    \n",
        "    if n!=0 :\n",
        "        return m + multiply(m, n-1)\n",
        "    \n",
        "    else:\n",
        "        return 0\n",
        "\n",
        "m = int(input())\n",
        "n = int(input())\n",
        "print(multiply(m,n))"
      ],
      "metadata": {
        "colab": {
          "base_uri": "https://localhost:8080/"
        },
        "id": "ThZNPbVzEDRj",
        "outputId": "047184cc-7e6b-4023-f7e1-ab2e23314c70"
      },
      "execution_count": null,
      "outputs": [
        {
          "output_type": "stream",
          "name": "stdout",
          "text": [
            "4\n",
            "3\n",
            "12\n"
          ]
        }
      ]
    },
    {
      "cell_type": "code",
      "source": [
        "'''\n",
        "Count Zeros\n",
        "Given an integer N, count and return the number of zeros that are present in the given integer using recursion.\n",
        "\n",
        "Input Format :\n",
        "Integer N\n",
        "Output Format :\n",
        "Number of zeros in N\n",
        "\n",
        "Sample Input 1 :\n",
        "0\n",
        "Sample Output 1 :\n",
        "1\n",
        "\n",
        "Sample Input 2 :\n",
        "00010204\n",
        "Sample Output 2 :\n",
        "2\n",
        "'''\n",
        "\n",
        "def zero(n):\n",
        "    if n==0 :\n",
        "        return 0\n",
        "    \n",
        "    if n%10 == 0:\n",
        "        return 1 + zero(n//10)\n",
        "    else:\n",
        "        return zero(n//10)\n",
        "\n",
        "n = int(input())\n",
        "if n==0 :\n",
        "    print('1')\n",
        "else:\n",
        "\tprint(zero(n))"
      ],
      "metadata": {
        "colab": {
          "base_uri": "https://localhost:8080/"
        },
        "id": "9gzms0qCES-q",
        "outputId": "b0720d6d-dc7c-45b1-e447-0e3ec3f9ee32"
      },
      "execution_count": null,
      "outputs": [
        {
          "output_type": "stream",
          "name": "stdout",
          "text": [
            "00010240\n",
            "2\n"
          ]
        }
      ]
    },
    {
      "cell_type": "code",
      "source": [
        "'''\n",
        "String to Integer\n",
        "Write a recursive function to convert a given string into the number it represents. That is input will be a numeric string that contains only numbers, you need to convert the string into corresponding integer and return the answer.\n",
        "\n",
        "Input format :\n",
        "Numeric string S (string, Eg. \"1234\")\n",
        "Output format :\n",
        "Corresponding integer N (int, Eg. 1234)\n",
        "\n",
        "Sample Input 1 :\n",
        "00001231\n",
        "Sample Output 1 :\n",
        "1231\n",
        "\n",
        "Sample Input 2 :\n",
        "12567\n",
        "Sample Output 2 :\n",
        "12567\n",
        "'''\n",
        "\n",
        "def s_to_i(string, num):\n",
        "    if len(string)==0 :\n",
        "        return num\n",
        "    \n",
        "    return s_to_i(string[1:], num*10 + ord(string[0])-48)\n",
        "    \n",
        "string = input()\n",
        "num = 0\n",
        "print(s_to_i(string, num))"
      ],
      "metadata": {
        "colab": {
          "base_uri": "https://localhost:8080/"
        },
        "id": "rmHYd4RFEVlU",
        "outputId": "ad4328aa-59a9-42cc-870f-d8ec97311f19"
      },
      "execution_count": null,
      "outputs": [
        {
          "output_type": "stream",
          "name": "stdout",
          "text": [
            "000120235\n",
            "120235\n"
          ]
        }
      ]
    },
    {
      "cell_type": "code",
      "source": [
        "'''\n",
        "Pair Star\n",
        "Given a string S, compute recursively a new string where identical chars that are adjacent in the original string are separated from each other by a \"*\".\n",
        "\n",
        "Input format :\n",
        "String S\n",
        "Output format :\n",
        "Modified string\n",
        "\n",
        "Sample Input 1 :\n",
        "hello\n",
        "Sample Output 1:\n",
        "hel*lo\n",
        "\n",
        "Sample Input 2 :\n",
        "aaaa\n",
        "Sample Output 2 :\n",
        "a*a*a*a\n",
        "'''\n",
        "\n",
        "def pairStar(s):\n",
        "    if len(s)<=1:\n",
        "        return s\n",
        "    \n",
        "    if s[0]==s[1] :\n",
        "        return s[0] + '*' + pairStar(s[1:])\n",
        "    else:\n",
        "        return s[0] + pairStar(s[1:])\n",
        "\n",
        "s = input()\n",
        "print(pairStar(s))"
      ],
      "metadata": {
        "colab": {
          "base_uri": "https://localhost:8080/"
        },
        "id": "LRqL1RnpEarS",
        "outputId": "cf9c2b82-d332-4856-9fe8-e9b4a75b6201"
      },
      "execution_count": null,
      "outputs": [
        {
          "output_type": "stream",
          "name": "stdout",
          "text": [
            "he*llo\n",
            "he*l*lo\n"
          ]
        }
      ]
    },
    {
      "cell_type": "code",
      "source": [
        "'''\n",
        "Check AB\n",
        "\n",
        "Suppose you have a string, S, made up of only 'a's and 'b's. Write a recursive function that checks if the string was generated using the following rules:\n",
        "\n",
        "a. The string begins with an 'a'\n",
        "b. Each 'a' is followed by nothing or an 'a' or \"bb\"\n",
        "c. Each \"bb\" is followed by nothing or an 'a'\n",
        "\n",
        "If all the rules are followed by the given string, return true otherwise return false.\n",
        "\n",
        "Input format :\n",
        "String S\n",
        "Output format :\n",
        "'true' or 'false'\n",
        "\n",
        "Sample Input 1 :\n",
        "abb\n",
        "Sample Output 1 :\n",
        "true\n",
        "\n",
        "Sample Input 2 :\n",
        "abababa\n",
        "Sample Output 2 :\n",
        "false\n",
        "'''\n",
        "\n",
        "def checkAB(s):\n",
        "    if len(s)==0 :\n",
        "        return 'true'\n",
        "       \n",
        "    if s[0]=='a':\n",
        "        if (len(s[1:]) > 1 and s[1:3] == 'bb'):\n",
        "            return checkAB(s[3:])\n",
        "        else:\n",
        "            return checkAB(s[1:])\n",
        "    else:\n",
        "        return 'false'\n",
        "        \n",
        "s = input()\n",
        "print(checkAB(s))"
      ],
      "metadata": {
        "colab": {
          "base_uri": "https://localhost:8080/"
        },
        "id": "A7X6cxl8Efic",
        "outputId": "5afba2f3-3e71-4b7e-e1d9-54b6b7c79db0"
      },
      "execution_count": null,
      "outputs": [
        {
          "output_type": "stream",
          "name": "stdout",
          "text": [
            "abababa\n",
            "false\n"
          ]
        }
      ]
    },
    {
      "cell_type": "code",
      "source": [
        "'''\n",
        "Staircase\n",
        "A child is running up a staircase with N steps, and can hop either 1 step, 2 steps or 3 steps at a time. Implement a method to count how many possible ways the child can run up to the stairs. You need to return number of possible ways W.\n",
        "\n",
        "Input format :\n",
        "Integer N\n",
        "Output Format :\n",
        "Integer W\n",
        "\n",
        "Sample Input 1 :\n",
        "4\n",
        "Sample Output 1 :\n",
        "7\n",
        "\n",
        "Sample Input 2 :\n",
        "5\n",
        "Sample Output 2 :\n",
        "13\n",
        "'''\n",
        "\n",
        "def staircase(n):\n",
        "    if n==0 :\n",
        "        return 1\n",
        "    \n",
        "    elif n<0:\n",
        "        return 0\n",
        "    \n",
        "    return staircase(n-1) + staircase(n-2) + staircase(n-3)\n",
        "\n",
        "n = int(input())\n",
        "print(staircase(n))"
      ],
      "metadata": {
        "colab": {
          "base_uri": "https://localhost:8080/"
        },
        "id": "KbVqJ_G-EnST",
        "outputId": "d67252f2-3f4d-4e16-8430-7ef2acdb0014"
      },
      "execution_count": null,
      "outputs": [
        {
          "output_type": "stream",
          "name": "stdout",
          "text": [
            "5\n",
            "13\n"
          ]
        }
      ]
    }
  ]
}