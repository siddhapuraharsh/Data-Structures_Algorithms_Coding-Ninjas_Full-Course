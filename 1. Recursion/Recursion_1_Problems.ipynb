{
  "nbformat": 4,
  "nbformat_minor": 0,
  "metadata": {
    "colab": {
      "name": "Problems_Recursion-1",
      "provenance": [],
      "collapsed_sections": []
    },
    "kernelspec": {
      "name": "python3",
      "display_name": "Python 3"
    },
    "language_info": {
      "name": "python"
    }
  },
  "cells": [
    {
      "cell_type": "markdown",
      "source": [
        "**CONTENT PROBLEMS**"
      ],
      "metadata": {
        "id": "-nXohosiAK-g"
      }
    },
    {
      "cell_type": "code",
      "source": [
        "'''\n",
        "Write a program to find x to the power n (i.e. x^n). Take x and n from the user. You need to print the answer.\n",
        "Note : For this question, you can assume that 0 raised to the power of 0 is 1\n",
        "\n",
        "Input format :\n",
        "Two integers x and n (separated by space)\n",
        "\n",
        "Output Format :\n",
        "x^n (i.e. x raise to the power n)\n",
        "'''\n",
        "\n",
        "def pow(x,n):\n",
        "    if n==0:\n",
        "        return 1\n",
        "    return x * pow(x,n-1)\n",
        "\n",
        "x, n = input().split()\n",
        "x = int(x)\n",
        "n = int(n)\n",
        "print(x, 'power', n, '=', pow(x,n))"
      ],
      "metadata": {
        "colab": {
          "base_uri": "https://localhost:8080/"
        },
        "id": "IwHB44s1-Zwt",
        "outputId": "a226fde5-b290-4a3a-9dc6-3e92a89e162c"
      },
      "execution_count": null,
      "outputs": [
        {
          "output_type": "stream",
          "name": "stdout",
          "text": [
            "2 5\n",
            "2 power 5 = 32\n"
          ]
        }
      ]
    },
    {
      "cell_type": "code",
      "source": [
        "'''\n",
        "Given an array of length N, you need to find and return the sum of all elements of the array.Do this recursively.\n",
        "\n",
        "Input Format :\n",
        "Line 1 : An Integer N i.e. size of array\n",
        "Line 2 : N integers which are elements of the array, separated by spaces\n",
        "\n",
        "Output Format :\n",
        "Sum\n",
        "\n",
        "Sample Input 1 :\n",
        "3\n",
        "9 8 9\n",
        "\n",
        "Sample Output 1 :\n",
        "26\n",
        "'''\n",
        "\n",
        "\n",
        "def sumArray(arr, start_index):\n",
        "    length = len(arr)\n",
        "    if start_index==length-1:\n",
        "        return arr[start_index] \n",
        "    return arr[start_index] + sumArray(arr,start_index+1)\n",
        "\n",
        "\n",
        "from sys import setrecursionlimit\n",
        "setrecursionlimit(11000)\n",
        "n=int(input())\n",
        "arr=list(int(i) for i in input().strip().split(' '))\n",
        "start_index = 0\n",
        "print(sumArray(arr, start_index))\n"
      ],
      "metadata": {
        "colab": {
          "base_uri": "https://localhost:8080/"
        },
        "id": "bH-IMvhBIRQd",
        "outputId": "2d3e427e-9643-4cdc-b21a-c4566acde00a"
      },
      "execution_count": null,
      "outputs": [
        {
          "output_type": "stream",
          "name": "stdout",
          "text": [
            "5\n",
            "1 2 1 3 1\n",
            "8\n"
          ]
        }
      ]
    },
    {
      "cell_type": "code",
      "source": [
        "'''\n",
        "Given an array of length N and an integer x, you need to find if x is present in the array or not. Return true or false. Do this recursively.\n",
        "\n",
        "Input Format :\n",
        "Line 1 : An Integer N i.e. size of array\n",
        "Line 2 : N integers which are elements of the array, separated by spaces\n",
        "Line 3 : Integer x\n",
        "\n",
        "Output Format :\n",
        "'true' or 'false'\n",
        "'''\n",
        "\n",
        "def checkNumber(arr,x,index):\n",
        "    length = len(arr)\n",
        "    if arr[index]==x:\n",
        "        return True\n",
        "    elif index == length-1:\n",
        "        return False\n",
        "    else:\n",
        "    \treturn checkNumber(arr,x,index+1)\n",
        "\n",
        "from sys import setrecursionlimit\n",
        "setrecursionlimit(11000)\n",
        "n=int(input())\n",
        "arr=list(int(i) for i in input().strip().split(' '))\n",
        "x=int(input())\n",
        "index = 0\n",
        "if checkNumber(arr,x,index):\n",
        "    print('true')\n",
        "else:\n",
        "    print('false')"
      ],
      "metadata": {
        "colab": {
          "base_uri": "https://localhost:8080/"
        },
        "id": "DD8vhlGbJJvE",
        "outputId": "33e0269b-e0b1-49e6-bb37-06fe2d78ecfd"
      },
      "execution_count": null,
      "outputs": [
        {
          "output_type": "stream",
          "name": "stdout",
          "text": [
            "5\n",
            "1 5 6 8 9\n",
            "6\n",
            "true\n"
          ]
        }
      ]
    },
    {
      "cell_type": "code",
      "source": [
        "'''\n",
        "First Index of Number \n",
        "\n",
        "Given an array of length N and an integer x, you need to find and return the first index of integer x present in the array. Return -1 if it is not present in the array.\n",
        "First index means, the index of first occurrence of x in the input array. Do this recursively. Indexing in the array starts from 0.\n",
        "\n",
        "Input Format :\n",
        "Line 1 : An Integer N i.e. size of array\n",
        "Line 2 : N integers which are elements of the array, separated by spaces\n",
        "Line 3 : Integer x\n",
        "\n",
        "Output Format :\n",
        "first index or -1\n",
        "\n",
        "Sample Input :\n",
        "4\n",
        "9 8 10 8\n",
        "8\n",
        "\n",
        "Sample Output :\n",
        "1\n",
        "'''\n",
        "\n",
        "def firstIndex(arr, x, index):\n",
        "    length = len(arr)\n",
        "    \n",
        "    if(index==length):\n",
        "        return -1\n",
        "\n",
        "    if(arr[index]==x):\n",
        "        return index\n",
        "\n",
        "    return firstIndex(arr, x, index+1)\n",
        " \n",
        "from sys import setrecursionlimit\n",
        "setrecursionlimit(11000)\n",
        "n=int(input())\n",
        "arr=list(int(i) for i in input().strip().split(' '))\n",
        "x=int(input())\n",
        "index = 0\n",
        "print(firstIndex(arr, x, index))"
      ],
      "metadata": {
        "colab": {
          "base_uri": "https://localhost:8080/"
        },
        "id": "h615sYRuxtN4",
        "outputId": "07e058ac-ae60-44fc-ee9c-059fc3f6197e"
      },
      "execution_count": null,
      "outputs": [
        {
          "output_type": "stream",
          "name": "stdout",
          "text": [
            "5\n",
            "2 5 6 3 8\n",
            "6\n",
            "2\n"
          ]
        }
      ]
    },
    {
      "cell_type": "code",
      "source": [
        "'''\n",
        "Last Index Of Number Question\n",
        "\n",
        "Given an array of length N and an integer x, you need to find and return the last index of integer x present in the array. Return -1 if it is not present in the array.\n",
        "Last index means - if x is present multiple times in the array, return the index at which x comes last in the array. You should start traversing your array from 0, not from (N - 1).\n",
        "Do this recursively. Indexing in the array starts from 0.\n",
        "\n",
        "Input Format :\n",
        "Line 1 : An Integer N i.e. size of array\n",
        "Line 2 : N integers which are elements of the array, separated by spaces\n",
        "Line 3 : Integer x\n",
        "\n",
        "Output Format :\n",
        "last index or -1\n",
        "\n",
        "Sample Input :\n",
        "4\n",
        "9 8 10 8\n",
        "8\n",
        "\n",
        "Sample Output :\n",
        "3\n",
        "'''\n",
        "\n",
        "def lastIndex(arr, x, index):\n",
        "    length = len(arr)\n",
        "    \n",
        "    if(index==length):\n",
        "        return -1\n",
        "    \n",
        "    temp =  lastIndex(arr, x, index+1)\n",
        "\n",
        "    if temp!=-1:\n",
        "      return temp\n",
        "    else:\n",
        "      if arr[index]==x:\n",
        "        return index\n",
        "      else:\n",
        "        return -1\n",
        "    \n",
        "from sys import setrecursionlimit\n",
        "setrecursionlimit(11000)\n",
        "n=int(input())\n",
        "arr=list(int(i) for i in input().strip().split(' '))\n",
        "x=int(input())\n",
        "index = 0\n",
        "print(lastIndex(arr, x, index))"
      ],
      "metadata": {
        "colab": {
          "base_uri": "https://localhost:8080/"
        },
        "id": "cqONyctb0pqi",
        "outputId": "d73d0d6e-9033-464c-c75c-e3d500830d62"
      },
      "execution_count": null,
      "outputs": [
        {
          "output_type": "stream",
          "name": "stdout",
          "text": [
            "5\n",
            "1 2 3 2 5\n",
            "2\n",
            "3\n"
          ]
        }
      ]
    },
    {
      "cell_type": "markdown",
      "source": [
        "**CONTENT**"
      ],
      "metadata": {
        "id": "Ezd99hq4Awj2"
      }
    },
    {
      "cell_type": "code",
      "execution_count": null,
      "metadata": {
        "colab": {
          "base_uri": "https://localhost:8080/"
        },
        "id": "SbIW5wK_6krK",
        "outputId": "8cc026ed-ef93-4956-e4f6-258f174643ad"
      },
      "outputs": [
        {
          "name": "stdout",
          "output_type": "stream",
          "text": [
            "5\n"
          ]
        },
        {
          "output_type": "execute_result",
          "data": {
            "text/plain": [
              "120"
            ]
          },
          "metadata": {},
          "execution_count": 1
        }
      ],
      "source": [
        "# Factorial\n",
        "\n",
        "def fact(n):\n",
        "  if n == 0:\n",
        "    return 1\n",
        "  return n*fact(n-1)\n",
        "\n",
        "n = int(input())\n",
        "fact(n)"
      ]
    },
    {
      "cell_type": "code",
      "source": [
        "# Sum to first N natural numbers\n",
        "\n",
        "def sum(n):\n",
        "  if n == 0:\n",
        "    return 0\n",
        "  return n + sum(n-1)\n",
        "\n",
        "n = int(input())\n",
        "print('Sum = ', sum(n))"
      ],
      "metadata": {
        "colab": {
          "base_uri": "https://localhost:8080/"
        },
        "id": "nLK5McXU8ecY",
        "outputId": "b046eb87-0524-4192-b180-c79d6d686424"
      },
      "execution_count": null,
      "outputs": [
        {
          "output_type": "stream",
          "name": "stdout",
          "text": [
            "4\n",
            "Sum =  10\n"
          ]
        }
      ]
    },
    {
      "cell_type": "code",
      "source": [
        "# Print 1 to n\n",
        "def print_1to_n(n):\n",
        "  if n==0 :\n",
        "    return\n",
        "  print_1to_n(n-1)\n",
        "  print(n)\n",
        "\n",
        "n = int(input())\n",
        "print_1to_n(n)"
      ],
      "metadata": {
        "colab": {
          "base_uri": "https://localhost:8080/"
        },
        "id": "ts_eIAq3_zSN",
        "outputId": "2d541ef3-769d-4f6b-c8ed-b8354d625450"
      },
      "execution_count": null,
      "outputs": [
        {
          "output_type": "stream",
          "name": "stdout",
          "text": [
            "10\n",
            "1\n",
            "2\n",
            "3\n",
            "4\n",
            "5\n",
            "6\n",
            "7\n",
            "8\n",
            "9\n",
            "10\n"
          ]
        }
      ]
    },
    {
      "cell_type": "code",
      "source": [
        "# Print n to 1\n",
        "def print_nto_1(n):\n",
        "  if n==0 :\n",
        "    return\n",
        "  print(n)\n",
        "  print_nto_1(n-1)\n",
        "\n",
        "n = int(input())\n",
        "print_nto_1(n)"
      ],
      "metadata": {
        "colab": {
          "base_uri": "https://localhost:8080/"
        },
        "id": "-Kmibn3RCcw8",
        "outputId": "c568d645-4d8f-47a5-a5da-30386607b4f0"
      },
      "execution_count": null,
      "outputs": [
        {
          "output_type": "stream",
          "name": "stdout",
          "text": [
            "10\n",
            "10\n",
            "9\n",
            "8\n",
            "7\n",
            "6\n",
            "5\n",
            "4\n",
            "3\n",
            "2\n",
            "1\n"
          ]
        }
      ]
    },
    {
      "cell_type": "code",
      "source": [
        "# Fibonacci nth term\n",
        "def fibo(n):\n",
        "  if n==1 or n==2:\n",
        "    return 1\n",
        "  return fibo(n-1) + fibo(n-2)\n",
        "\n",
        "n = int(input())\n",
        "print(fibo(n))"
      ],
      "metadata": {
        "colab": {
          "base_uri": "https://localhost:8080/"
        },
        "id": "J_2wdl6ytiqa",
        "outputId": "ee369da1-2f9a-49a5-e009-01004b3400b1"
      },
      "execution_count": null,
      "outputs": [
        {
          "output_type": "stream",
          "name": "stdout",
          "text": [
            "4\n",
            "3\n"
          ]
        }
      ]
    },
    {
      "cell_type": "code",
      "source": [
        "# Check if the list is sorted or not\n",
        "\n",
        "def sorted(lst, start_index):\n",
        "  length = len(lst)\n",
        "  if (start_index == length-1) or (start_index == length):\n",
        "    return True\n",
        "\n",
        "  if lst[start_index] > lst[start_index+1]:\n",
        "    return False\n",
        "  else:\n",
        "    return sorted(lst, start_index+1)\n",
        "\n",
        "lst = [1,2,3,4,5,9]\n",
        "start_index = 0\n",
        "print(sorted(lst,start_index))  "
      ],
      "metadata": {
        "colab": {
          "base_uri": "https://localhost:8080/"
        },
        "id": "M1ydyvsGD5b_",
        "outputId": "5596febd-348e-40e4-e223-599b53519856"
      },
      "execution_count": null,
      "outputs": [
        {
          "output_type": "stream",
          "name": "stdout",
          "text": [
            "True\n"
          ]
        }
      ]
    }
  ]
}