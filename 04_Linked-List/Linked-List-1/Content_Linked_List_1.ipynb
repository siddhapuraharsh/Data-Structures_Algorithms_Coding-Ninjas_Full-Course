{
  "nbformat": 4,
  "nbformat_minor": 0,
  "metadata": {
    "colab": {
      "name": "Content_Linked-List-1",
      "provenance": [],
      "collapsed_sections": []
    },
    "kernelspec": {
      "name": "python3",
      "display_name": "Python 3"
    },
    "language_info": {
      "name": "python"
    }
  },
  "cells": [
    {
      "cell_type": "code",
      "execution_count": null,
      "metadata": {
        "colab": {
          "base_uri": "https://localhost:8080/"
        },
        "id": "kVxVg4JlACbW",
        "outputId": "40989240-0b20-4ae2-b7d9-fbfd9b30545b"
      },
      "outputs": [
        {
          "output_type": "stream",
          "name": "stdout",
          "text": [
            "1\n",
            "2\n",
            "2\n",
            "None\n"
          ]
        }
      ],
      "source": [
        "# Creating Nodes of Linked List\n",
        "class Node:\n",
        "  def __init__(self, data):\n",
        "    self.data = data\n",
        "    self.next = None\n",
        "\n",
        "a = Node(1)\n",
        "b = Node(2)\n",
        "a.next = b\n",
        "print(a.data)\n",
        "print(a.next.data)  # data of b\n",
        "print(b.data)\n",
        "print(b.next)"
      ]
    },
    {
      "cell_type": "code",
      "source": [
        "class Node:\n",
        "    def __init__(self, data):\n",
        "        self.data = data\n",
        "        self.next = None\n",
        "def printLL(head):\n",
        "    while head is not None:\n",
        "        print(head.data,end=\" \")\n",
        "        head = head.next\n",
        "\n",
        "node1 = Node(10)\n",
        "node2 = Node(20)\n",
        "node2.next = node1\n",
        "printLL(node2)"
      ],
      "metadata": {
        "colab": {
          "base_uri": "https://localhost:8080/"
        },
        "id": "ydZjkiNpDTKA",
        "outputId": "90218a80-e3ff-4ab1-c07a-0e8608bae942"
      },
      "execution_count": null,
      "outputs": [
        {
          "output_type": "stream",
          "name": "stdout",
          "text": [
            "20 10 "
          ]
        }
      ]
    },
    {
      "cell_type": "code",
      "source": [
        "class Node:\n",
        "    def __init__(self, data):\n",
        "        self.data = data\n",
        "        self.next = None\n",
        "def printLL(head):\n",
        "    while head is not None:\n",
        "        print(head.data,end=\" \")\n",
        "        head = head.next\n",
        "\n",
        "node1 = Node(10)\n",
        "node2 = Node(20)\n",
        "node3 = Node(30)\n",
        "node4 = Node(40)\n",
        "node1.next = node2\n",
        "node2.next = node3\n",
        "node3.next = node4\n",
        "printLL(node2)"
      ],
      "metadata": {
        "id": "eZaj22W0D5hu",
        "outputId": "f07f686c-8ad1-408e-baa1-33ec5dd48946",
        "colab": {
          "base_uri": "https://localhost:8080/"
        }
      },
      "execution_count": null,
      "outputs": [
        {
          "output_type": "stream",
          "name": "stdout",
          "text": [
            "20 30 40 "
          ]
        }
      ]
    },
    {
      "cell_type": "markdown",
      "source": [
        "**Create & Print Linked List**"
      ],
      "metadata": {
        "id": "ky3eeolZCf_f"
      }
    },
    {
      "cell_type": "code",
      "source": [
        "# Create and Print Linked List\n",
        "\n",
        "# Create Node\n",
        "class Node:\n",
        "    def __init__(self,data):\n",
        "        self.data = data\n",
        "        self.next = None\n",
        "\n",
        "# Print Linked List\n",
        "def printLL(head):\n",
        "    while head is not None:\n",
        "        print(str(head.data)+\"->\",end='')\n",
        "        head = head.next\n",
        "    print(\"None\")\n",
        "    return\n",
        "\n",
        "# Create Linked List\n",
        "def takeInput():\n",
        "    inputList = [int (ele) for ele in input().split()] \n",
        "\n",
        "    head = None\n",
        "    tail = None\n",
        "\n",
        "    for currData in inputList:\n",
        "        if currData==-1:\n",
        "            break\n",
        "\n",
        "        newNode = Node(currData)\n",
        "\n",
        "        if head is None:\n",
        "            head = newNode\n",
        "            tail = newNode\n",
        "        else:\n",
        "            tail.next = newNode\n",
        "            tail = newNode\n",
        "\n",
        "    return head\n",
        "\n",
        "head = takeInput()\n",
        "printLL(head)"
      ],
      "metadata": {
        "colab": {
          "base_uri": "https://localhost:8080/"
        },
        "id": "YiQle4ZcxY7s",
        "outputId": "a2cabc98-d856-4122-ba39-e04c800791a8"
      },
      "execution_count": null,
      "outputs": [
        {
          "output_type": "stream",
          "name": "stdout",
          "text": [
            "1 2 3 4 5 6 7 8 9 -1\n",
            "1->2->3->4->5->6->7->8->9->None\n"
          ]
        }
      ]
    },
    {
      "cell_type": "code",
      "source": [
        "class Node:\n",
        "    def __init__(self, data):\n",
        "        self.data = data\n",
        "        self.next = None\n",
        "\n",
        "def printLL(head):\n",
        "    while head is not None:\n",
        "        print(head.data,end=\" \")\n",
        "        head = head.next\n",
        "\n",
        "def increment(head):\n",
        "     temp = head\n",
        "     while temp is not None:\n",
        "        temp.data +=1\n",
        "        temp = temp.next\n",
        "\n",
        "node1 = Node(10)\n",
        "node2 = Node(20)\n",
        "node1.next = node2\n",
        "increment(node1)\n",
        "printLL(node1)"
      ],
      "metadata": {
        "colab": {
          "base_uri": "https://localhost:8080/"
        },
        "id": "y0qYf0DMAwmk",
        "outputId": "7933750b-cfb4-4ff0-d3d5-5ba684befe7a"
      },
      "execution_count": null,
      "outputs": [
        {
          "output_type": "stream",
          "name": "stdout",
          "text": [
            "11 21 "
          ]
        }
      ]
    },
    {
      "cell_type": "markdown",
      "source": [
        "**Insert Element Iteratively at ith position**\n"
      ],
      "metadata": {
        "id": "V-I_B1S2Ck6k"
      }
    },
    {
      "cell_type": "code",
      "source": [
        "class Node:\n",
        "    def __init__(self,data):\n",
        "        self.data=data\n",
        "        self.next=None\n",
        "\n",
        "def printLL(head):\n",
        "    while head is not None:\n",
        "        print(str(head.data)+\"->\",end='')\n",
        "        head=head.next\n",
        "    print(\"None\")\n",
        "    return\n",
        "\n",
        "def length(head):\n",
        "    count=0\n",
        "    while head is not None:\n",
        "        count=count+1\n",
        "        head=head.next\n",
        "    return count\n",
        "\n",
        "\n",
        "def insertAtI(head,i,data):\n",
        "\n",
        "    if i<0 or i>length(head):\n",
        "        return head\n",
        "\n",
        "    count=0\n",
        "    prev=None\n",
        "    curr=head\n",
        "\n",
        "    while count<i:\n",
        "        prev=curr\n",
        "        curr=curr.next\n",
        "        count=count+1\n",
        "\n",
        "    newNode=Node(data)\n",
        "\n",
        "    if prev is not None:\n",
        "        prev.next=newNode\n",
        "    else:\n",
        "        head=newNode\n",
        "    newNode.next=curr\n",
        "\n",
        "    return head\n",
        "\n",
        "\n",
        "def takeInput():\n",
        "    inputList=[int (ele) for ele in input().split()]\n",
        "    head=None\n",
        "    tail=None\n",
        "    for currData in inputList:\n",
        "        if currData==-1:\n",
        "            break\n",
        "        newNode=Node(currData)\n",
        "        if head is None:\n",
        "            head=newNode\n",
        "            tail=newNode\n",
        "        else:\n",
        "            tail.next=newNode\n",
        "            tail=newNode\n",
        "    return head\n",
        "    \n",
        "head=takeInput()\n",
        "printLL(head)\n",
        "head=insertAtI(head,2,6)\n",
        "printLL(head)\n",
        "head=insertAtI(head,0,9)\n",
        "printLL(head)\n",
        "head=insertAtI(head,7,10)\n",
        "printLL(head)"
      ],
      "metadata": {
        "colab": {
          "base_uri": "https://localhost:8080/"
        },
        "id": "XV7QYGyLkssZ",
        "outputId": "d3e68d81-e67f-4e0f-b0ba-0048d53dec30"
      },
      "execution_count": null,
      "outputs": [
        {
          "output_type": "stream",
          "name": "stdout",
          "text": [
            "1 2 3 4 5\n",
            "1->2->3->4->5->None\n",
            "1->2->6->3->4->5->None\n",
            "9->1->2->6->3->4->5->None\n",
            "9->1->2->6->3->4->5->10->None\n"
          ]
        }
      ]
    },
    {
      "cell_type": "markdown",
      "source": [
        "**Insert Element Recursively at ith position**"
      ],
      "metadata": {
        "id": "aLqx-kejS2_b"
      }
    },
    {
      "cell_type": "code",
      "source": [
        "class Node:\n",
        "    def __init__(self,data):\n",
        "        self.data=data\n",
        "        self.next=None\n",
        "\n",
        "\n",
        "def printLL(head):\n",
        "    while head is not None:\n",
        "        print(str(head.data)+\"->\",end='')\n",
        "        head=head.next\n",
        "    print(\"None\")\n",
        "    return\n",
        "\n",
        "\n",
        "def insertAtIR(head,i,data):\n",
        "    \n",
        "    if i==0:\n",
        "        newNode=Node(data)\n",
        "        newNode.next=head\n",
        "        return newNode\n",
        "      \n",
        "    if i<0 or head is None:\n",
        "        return head\n",
        "\n",
        "    head.next = insertAtIR(head.next,i-1,data)\n",
        "\n",
        "    return head\n",
        "\n",
        "\n",
        "def takeInput():\n",
        "    inputList=[int (ele) for ele in input().split()]\n",
        "    head=None\n",
        "    tail=None\n",
        "    for currData in inputList:\n",
        "        if currData==-1:\n",
        "            break\n",
        "        newNode=Node(currData)\n",
        "        if head is None:\n",
        "            head=newNode\n",
        "            tail=newNode\n",
        "        else:\n",
        "            tail.next=newNode\n",
        "            tail=newNode\n",
        "    return head\n",
        "\n",
        "\n",
        "head=takeInput()\n",
        "printLL(head)\n",
        "head=insertAtIR(head,2,6)\n",
        "printLL(head)\n",
        "head=insertAtIR(head,0,9)\n",
        "printLL(head)\n",
        "head=insertAtIR(head,7,10)\n",
        "printLL(head)"
      ],
      "metadata": {
        "colab": {
          "base_uri": "https://localhost:8080/"
        },
        "id": "InjtdGLMKVIj",
        "outputId": "445d911f-dc58-4fdf-83d7-c31c5f96ba3c"
      },
      "execution_count": null,
      "outputs": [
        {
          "output_type": "stream",
          "name": "stdout",
          "text": [
            "1 2 3 4 5\n",
            "1->2->3->4->5->None\n",
            "1->2->6->3->4->5->None\n",
            "9->1->2->6->3->4->5->None\n",
            "9->1->2->6->3->4->5->10->None\n"
          ]
        }
      ]
    }
  ]
}