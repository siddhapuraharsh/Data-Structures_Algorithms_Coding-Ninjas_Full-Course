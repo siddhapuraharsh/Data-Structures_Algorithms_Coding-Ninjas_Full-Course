{
  "nbformat": 4,
  "nbformat_minor": 0,
  "metadata": {
    "colab": {
      "name": "Problems_Recursion-2",
      "provenance": [],
      "collapsed_sections": []
    },
    "kernelspec": {
      "name": "python3",
      "display_name": "Python 3"
    },
    "language_info": {
      "name": "python"
    }
  },
  "cells": [
    {
      "cell_type": "markdown",
      "source": [
        "**CONTENT PROBLEMS**"
      ],
      "metadata": {
        "id": "uYZBbirmBZVh"
      }
    },
    {
      "cell_type": "code",
      "source": [
        "'''\n",
        "Remove X\n",
        "Given a string, compute recursively a new string where all 'x' chars have been removed.\n",
        "\n",
        "Input format :\n",
        "String S\n",
        "\n",
        "Output format :\n",
        "Modified String\n",
        "\n",
        "Sample Input 1 :\n",
        "xaxb\n",
        "Sample Output 1:\n",
        "ab\n",
        "\n",
        "Sample Input 2 :\n",
        "abc\n",
        "Sample Output 2:\n",
        "abc\n",
        "'''\n",
        "\n",
        "def removeX(string): \n",
        "    if len(string)==0 :\n",
        "        return string\n",
        "    \n",
        "    if string[0]=='x' :\n",
        "        return removeX(string[1:])\n",
        "    else:\n",
        "        return string[0] + removeX(string[1:])\n",
        "\n",
        "string = input()\n",
        "print(removeX(string))"
      ],
      "metadata": {
        "colab": {
          "base_uri": "https://localhost:8080/"
        },
        "id": "LRj0ow1yIyew",
        "outputId": "75351b7f-9819-43af-ec01-d9bb8ea56c8b"
      },
      "execution_count": null,
      "outputs": [
        {
          "output_type": "stream",
          "name": "stdout",
          "text": [
            "xghxxxxhggfxxx\n",
            "ghhggf\n"
          ]
        }
      ]
    },
    {
      "cell_type": "code",
      "source": [
        "'''\n",
        "Remove Duplicates Recursively\n",
        "\n",
        "Given a string S, remove consecutive duplicates from it recursively.\n",
        "\n",
        "Input Format :\n",
        "String S\n",
        "Output Format :\n",
        "Output string\n",
        "\n",
        "Sample Input 1 :\n",
        "aabccba\n",
        "Sample Output 1 :\n",
        "abcba\n",
        "\n",
        "Sample Input 2 :\n",
        "xxxyyyzwwzzz\n",
        "Sample Output 2 :\n",
        "xyzwz\n",
        "'''\n",
        "\n",
        "def removeConsecutiveDuplicates(string):\n",
        "    if len(string)<2:\n",
        "        return string\n",
        "    \n",
        "    if string[0]==string[1]:\n",
        "        return removeConsecutiveDuplicates(string[1:])\n",
        "    else:\n",
        "        return string[0] + removeConsecutiveDuplicates(string[1:])\n",
        "\n",
        "string = input().strip()\n",
        "print(removeConsecutiveDuplicates(string))"
      ],
      "metadata": {
        "colab": {
          "base_uri": "https://localhost:8080/"
        },
        "id": "nE4CPY_9PZAI",
        "outputId": "58877e12-d61c-47c1-b91f-31faa453307a"
      },
      "execution_count": null,
      "outputs": [
        {
          "output_type": "stream",
          "name": "stdout",
          "text": [
            "aaaabcccdefggggghhjik\n",
            "abcdefghjik\n"
          ]
        }
      ]
    },
    {
      "cell_type": "code",
      "source": [
        "'''\n",
        "Merge Sort Code\n",
        "\n",
        "Sort an array A using Merge Sort.\n",
        "Change in the input array itself. So no need to return or print anything.\n",
        "\n",
        "Input format :\n",
        "Line 1 : Integer n i.e. Array size\n",
        "Line 2 : Array elements (separated by space)\n",
        "Output format :\n",
        "Array elements in increasing order (separated by space)\n",
        "\n",
        "Constraints :\n",
        "1 <= n <= 10^3\n",
        "\n",
        "Sample Input 1 :\n",
        "6 \n",
        "2 6 8 5 4 3\n",
        "Sample Output 1 :\n",
        "2 3 4 5 6 8\n",
        "\n",
        "Sample Input 2 :\n",
        "5\n",
        "2 1 5 2 3\n",
        "Sample Output 2 :\n",
        "1 2 2 3 5 \n",
        "'''\n",
        "\n",
        "# Merge Sort using Recursion\n",
        "\n",
        "def merge(arr1, arr2, arr):\n",
        "    i,j,k = 0,0,0\n",
        "    \n",
        "    while i<len(arr1) and j<len(arr2):\n",
        "        if arr1[i]<arr2[j]:\n",
        "            arr[k] = arr1[i]\n",
        "            i += 1\n",
        "            k += 1\n",
        "        else:\n",
        "            arr[k] = arr2[j]\n",
        "            j += 1\n",
        "            k += 1\n",
        "            \n",
        "    while i<len(arr1):\n",
        "        arr[k] = arr1[i]\n",
        "        i += 1\n",
        "        k += 1\n",
        "        \n",
        "    while j<len(arr2):\n",
        "        arr[k] = arr2[j]\n",
        "        j += 1\n",
        "        k += 1\n",
        "      \n",
        "def mergeSort(arr):\n",
        "    if len(arr)<2:\n",
        "        return\n",
        "    \n",
        "    mid = len(arr)//2\n",
        "    arr1 = arr[0:mid]\n",
        "    arr2 = arr[mid:]\n",
        "    \n",
        "    mergeSort(arr1)\n",
        "    mergeSort(arr2)\n",
        "    \n",
        "    merge(arr1, arr2, arr)\n",
        "\n",
        "n=int(input())\n",
        "arr=list(int(i) for i in input().strip().split(' '))\n",
        "mergeSort(arr)\n",
        "print(*arr)"
      ],
      "metadata": {
        "colab": {
          "base_uri": "https://localhost:8080/"
        },
        "id": "NIbZvDvPU6DC",
        "outputId": "d90f59ae-76d7-4b38-8cf8-f4152fb66d3a"
      },
      "execution_count": null,
      "outputs": [
        {
          "output_type": "stream",
          "name": "stdout",
          "text": [
            "10\n",
            "2 8 1 6 9 4 2 3 12 0\n",
            "0 1 2 2 3 4 6 8 9 12\n"
          ]
        }
      ]
    },
    {
      "cell_type": "code",
      "source": [
        "'''\n",
        "Quick Sort Code\n",
        "\n",
        "Sort an array A using Quick Sort.\n",
        "Change in the input array itself. So no need to return or print anything.\n",
        "\n",
        "Input format :\n",
        "Line 1 : Integer n i.e. Array size\n",
        "Line 2 : Array elements (separated by space)\n",
        "Output format :\n",
        "Array elements in increasing order (separated by space)\n",
        "\n",
        "Constraints :\n",
        "1 <= n <= 10^3\n",
        "\n",
        "Sample Input 1 :\n",
        "6 \n",
        "2 6 8 5 4 3\n",
        "Sample Output 1 :\n",
        "2 3 4 5 6 8\n",
        "\n",
        "Sample Input 2 :\n",
        "5\n",
        "1 5 2 7 3\n",
        "Sample Output 2 :\n",
        "1 2 3 5 7 \n",
        "'''\n",
        "\n",
        "# Quick Sort\n",
        "\n",
        "def partition(arr, start, end):\n",
        "    pivot = arr[start]\n",
        "    \n",
        "    count = 0\n",
        "    for i in range(start, end+1):\n",
        "        if arr[i]<pivot:\n",
        "            count += 1\n",
        "    arr[start+count], arr[start] = arr[start], arr[start+count]\n",
        "    pivot_index = start+count\n",
        "    \n",
        "    i = start\n",
        "    j = end\n",
        "    \n",
        "    while i<j:\n",
        "        if arr[i]<pivot:\n",
        "            i += 1\n",
        "        elif arr[j]>=pivot:\n",
        "            j -= 1\n",
        "        else:\n",
        "            arr[i], arr[j] = arr[j], arr[i]\n",
        "            i += 1\n",
        "            j -= 1\n",
        "    return pivot_index\n",
        "\n",
        "def quickSort(arr, start, end):\n",
        "    if start>=end:\n",
        "        return \n",
        "    \n",
        "    pivot_index = partition(arr, start, end)\n",
        "    quickSort(arr, start, pivot_index-1)\n",
        "    quickSort(arr, pivot_index+1, end)\n",
        "      \n",
        "n=int(input())\n",
        "arr=list(int(i) for i in input().strip().split(' '))\n",
        "quickSort(arr, 0, n-1)\n",
        "print(*arr)"
      ],
      "metadata": {
        "id": "-E4oYw5i_hfn",
        "colab": {
          "base_uri": "https://localhost:8080/"
        },
        "outputId": "11165172-52f8-4089-dc6f-98a2176ab22e"
      },
      "execution_count": null,
      "outputs": [
        {
          "output_type": "stream",
          "name": "stdout",
          "text": [
            "10\n",
            "2 5 6 9 8 7 1 5 4 3\n",
            "1 2 3 4 5 5 6 7 8 9\n"
          ]
        }
      ]
    },
    {
      "cell_type": "code",
      "source": [
        "'''\n",
        "Tower Of Hanoi - Problem\n",
        "Tower of Hanoi is a mathematical puzzle where we have three rods and n disks. The objective of the puzzle is to move all disks from source rod to destination rod using third rod (say auxiliary). The rules are :\n",
        "1) Only one disk can be moved at a time.\n",
        "2) A disk can be moved only if it is on the top of a rod.\n",
        "3) No disk can be placed on the top of a smaller disk.\n",
        "\n",
        "Print the steps required to move n disks from source rod to destination rod.\n",
        "Source Rod is named as 'a', auxiliary rod as 'b' and destination rod as 'c'.\n",
        "\n",
        "Input Format :\n",
        "Integer n\n",
        "Output Format :\n",
        "Steps in different lines (in one line print source and destination rod name separated by space)\n",
        "\n",
        "Constraints :\n",
        "0 <= n <= 20\n",
        "\n",
        "Sample Input 1 :\n",
        "2\n",
        "Sample Output 1 :\n",
        "a b\n",
        "a c\n",
        "b c\n",
        "\n",
        "Sample Input 2 :\n",
        "3\n",
        "Sample Output 2 :\n",
        "a c\n",
        "a b\n",
        "c b\n",
        "a c\n",
        "b a\n",
        "b c\n",
        "a c\n",
        "'''\n",
        "\n",
        "def towerofhanoi(n, source, aux, dest):\n",
        "    if n==0 :\n",
        "        return\n",
        "    \n",
        "    if n==1 :\n",
        "        print(source, ' ', dest)\n",
        "        return\n",
        "    \n",
        "    towerofhanoi(n-1, source, dest, aux)\n",
        "    print(source, ' ', dest)\n",
        "    towerofhanoi(n-1, aux, source, dest)\n",
        "\n",
        "n=int(input())\n",
        "towerofhanoi(n, 'a', 'b', 'c')"
      ],
      "metadata": {
        "colab": {
          "base_uri": "https://localhost:8080/"
        },
        "id": "nOnPpO8nUsib",
        "outputId": "2e844129-04a9-4ef2-b09b-f6456a464f62"
      },
      "execution_count": null,
      "outputs": [
        {
          "output_type": "stream",
          "name": "stdout",
          "text": [
            "4\n",
            "a   b\n",
            "a   c\n",
            "b   c\n",
            "a   b\n",
            "c   a\n",
            "c   b\n",
            "a   b\n",
            "a   c\n",
            "b   c\n",
            "b   a\n",
            "c   a\n",
            "b   c\n",
            "a   b\n",
            "a   c\n",
            "b   c\n"
          ]
        }
      ]
    },
    {
      "cell_type": "markdown",
      "source": [
        "**CONTENT**"
      ],
      "metadata": {
        "id": "MYjwnL9tCYeD"
      }
    },
    {
      "cell_type": "code",
      "execution_count": null,
      "metadata": {
        "colab": {
          "base_uri": "https://localhost:8080/"
        },
        "id": "cTr4Hx00-EDt",
        "outputId": "47eb586e-7646-48cd-da89-ec8e988c113f"
      },
      "outputs": [
        {
          "output_type": "stream",
          "name": "stdout",
          "text": [
            "gggjkiogggkijgklo\n",
            "g\n",
            "x\n",
            "xxxjkioxxxkijxklo\n"
          ]
        }
      ],
      "source": [
        "# Replace all a by b\n",
        "\n",
        "def replaceChar(string, a ,b):\n",
        "\n",
        "  if len(string)==0 :\n",
        "    return string\n",
        "\n",
        "  if string[0]==a :\n",
        "    return b + replaceChar(string[1:], a, b)\n",
        "  else:\n",
        "    return string[0] + replaceChar(string[1:], a, b)\n",
        "\n",
        "string = input()\n",
        "a = input()\n",
        "b = input()\n",
        "print(replaceChar(string, a, b))"
      ]
    },
    {
      "cell_type": "code",
      "source": [
        "# Replace 'pi' with 3.14\n",
        "\n",
        "def replacePi(string):\n",
        "  if len(string)==0 or len(string)==1 :\n",
        "    return string\n",
        "\n",
        "  if string[0]=='p' and string[1]=='i' :\n",
        "    return '3.14' + replacePi(string[2:])\n",
        "  else:\n",
        "    return string[0] + replacePi(string[1:])\n",
        "\n",
        "string = input()\n",
        "print(replacePi(string))"
      ],
      "metadata": {
        "colab": {
          "base_uri": "https://localhost:8080/"
        },
        "id": "DCj8PlBhKufQ",
        "outputId": "af9f7db3-9507-4d21-9035-1e796aea979d"
      },
      "execution_count": null,
      "outputs": [
        {
          "output_type": "stream",
          "name": "stdout",
          "text": [
            "abpicdpiklppi\n",
            "ab3.14cd3.14klp3.14\n"
          ]
        }
      ]
    },
    {
      "cell_type": "code",
      "source": [
        "# Binary Search using Recursion\n",
        "\n",
        "def binarySearch(arr, x, start, end):\n",
        "  if start>end:\n",
        "    return -1\n",
        "\n",
        "  mid = (start+end)//2\n",
        "\n",
        "  if arr[mid]==x :\n",
        "    return mid\n",
        "  elif arr[mid]>x :\n",
        "    return binarySearch(arr, x, start, mid-1)\n",
        "  else:\n",
        "    return binarySearch(arr, x, mid+1, end)\n",
        "\n",
        "arr = list(int(i) for i in input().strip().split(' '))\n",
        "x = int(input())\n",
        "print(binarySearch(arr, x, 0, len(arr)-1))"
      ],
      "metadata": {
        "colab": {
          "base_uri": "https://localhost:8080/"
        },
        "id": "YsCoxRgHPuQ5",
        "outputId": "f5dacde3-5075-4202-fb5c-bb8fc76042aa"
      },
      "execution_count": null,
      "outputs": [
        {
          "output_type": "stream",
          "name": "stdout",
          "text": [
            "1 5 6 7 9 54 23 69\n",
            "5\n",
            "1\n"
          ]
        }
      ]
    }
  ]
}