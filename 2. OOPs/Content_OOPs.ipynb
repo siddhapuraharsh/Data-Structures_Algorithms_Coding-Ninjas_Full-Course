{
  "nbformat": 4,
  "nbformat_minor": 0,
  "metadata": {
    "colab": {
      "name": "Content_OOPs",
      "provenance": [],
      "collapsed_sections": []
    },
    "kernelspec": {
      "name": "python3",
      "display_name": "Python 3"
    },
    "language_info": {
      "name": "python"
    }
  },
  "cells": [
    {
      "cell_type": "markdown",
      "source": [
        "**Classes & OOPs Basics**"
      ],
      "metadata": {
        "id": "RMuPqucDIApS"
      }
    },
    {
      "cell_type": "code",
      "execution_count": null,
      "metadata": {
        "colab": {
          "base_uri": "https://localhost:8080/"
        },
        "id": "uHNMlNM8ddQ9",
        "outputId": "993c2a0d-b436-4c8e-ac6e-8ab74406b698"
      },
      "outputs": [
        {
          "output_type": "stream",
          "name": "stdout",
          "text": [
            "15-June\n",
            "Salary\n",
            "{'date': '15-June', 'desc': 'Party', 'transc_type': 'Debit', 'amount': 5000}\n",
            "5000\n",
            "False\n",
            "{'date': '15-June', 'desc': 'Party', 'transc_type': 'Debit'}\n",
            "0.1\n",
            "0.1\n",
            "0.1\n",
            "0.2\n"
          ]
        }
      ],
      "source": [
        "class Exp_Tracker:\n",
        "  exp_tracker_version = 0.1 \n",
        "  def __init__(self, date, desc, transc_type, amount):\n",
        "    self.date = date\n",
        "    self.desc = desc\n",
        "    self.transc_type = transc_type\n",
        "    self.amount = amount\n",
        "\n",
        "obj1 = Exp_Tracker('15-June', 'Party', 'Debit', 5000)\n",
        "obj2 = Exp_Tracker('25-August', 'Salary', 'Credit', 50000)\n",
        "\n",
        "print(obj1.date)\n",
        "print(obj2.desc)\n",
        "print(obj1.__dict__)\n",
        "print(getattr(obj1,'amount'))\n",
        "print(hasattr(obj1,'a'))\n",
        "delattr(obj1,'amount')\n",
        "print(obj1.__dict__)\n",
        "\n",
        "print(obj1.exp_tracker_version)\n",
        "print(obj2.exp_tracker_version)\n",
        "obj2.exp_tracker_version = 0.2\n",
        "print(obj1.exp_tracker_version)\n",
        "print(obj2.exp_tracker_version)"
      ]
    },
    {
      "cell_type": "code",
      "source": [
        "class ExpenseTracker:\n",
        "\n",
        "    #class attribute\n",
        "    expense_version_tracker=0.1\n",
        "    def __init__(self,track_category,original_balance,budget):\n",
        "        #instance/object Attributes\n",
        "        self.tracking_category=track_category\n",
        "        self.original_balance=original_balance\n",
        "        self.tracker_budget=budget\n",
        "\n",
        "    #instance method\n",
        "    def get_original_balance(self):\n",
        "        return self.original_balance\n",
        "    def check_balance(self,limit=1000):\n",
        "        if self.tracker_budget>=limit:\n",
        "            return True\n",
        "        else:\n",
        "            return \"Your opening balance is less than limit\"\n",
        "            \n",
        "    @staticmethod\n",
        "    def convert_amount(amount):\n",
        "            return float(amount)\n",
        "    \n",
        "obj1=ExpenseTracker(\"Home\",0,10000)\n",
        "obj2=ExpenseTracker(\"Business\",10000,100000)\n",
        "\n",
        "print(obj1.get_original_balance())\n",
        "print(obj2.get_original_balance())\n",
        "\n",
        "print(obj1.check_balance())\n",
        "print(obj1.check_balance(limit=100000))      # Instance method (self) can be accessed with only objects.\n",
        "\n",
        "print(obj1.convert_amount(1000))              \n",
        "print(ExpenseTracker.convert_amount(1000))   # Static methods can be accessed with class instance also."
      ],
      "metadata": {
        "colab": {
          "base_uri": "https://localhost:8080/"
        },
        "id": "BuJZNCymgQG5",
        "outputId": "45273ad9-9d9f-4d06-9ec0-715cbc2fc1a7"
      },
      "execution_count": null,
      "outputs": [
        {
          "output_type": "stream",
          "name": "stdout",
          "text": [
            "0\n",
            "10000\n",
            "True\n",
            "Your opening balance is less than limit\n",
            "1000.0\n",
            "1000.0\n"
          ]
        }
      ]
    },
    {
      "cell_type": "code",
      "source": [
        "class ExpenseTracker:\n",
        "\n",
        "    #class attribute\n",
        "    expense_version_tracker=0.1\n",
        "\n",
        "    def __init__(self,track_category,original_balance,budget):\n",
        "        #instance/object Attributes\n",
        "        self.tracking_category=track_category\n",
        "        self.original_balance=original_balance\n",
        "        self.tracker_budget=budget\n",
        "\n",
        "    #instance method\n",
        "    def get_original_balance(self):\n",
        "        return self.original_balance\n",
        "    def check_balance(self,limit=1000):\n",
        "        if self.tracker_budget>=limit:\n",
        "            return True\n",
        "        else:\n",
        "            return \"Your opening balance is less than limit\"\n",
        "\n",
        "    @staticmethod\n",
        "    def convert_amount(amount):\n",
        "            return float(amount)\n",
        "\n",
        "    @classmethod\n",
        "    def get_attributes_fromstring(cls,diary_entry:str):\n",
        "        tracking_category,opening_balance,tracker_budget=diary_entry.split(\" \")\n",
        "        return ExpenseTracker(tracking_category.capitalize(),\n",
        "                             cls.convert_amount(opening_balance),\n",
        "                             cls.convert_amount(tracker_budget))\n",
        "        \n",
        "ClassObject = ExpenseTracker.get_attributes_fromstring(\"shopping 100 5000\")\n",
        "print(ClassObject.__dict__)"
      ],
      "metadata": {
        "colab": {
          "base_uri": "https://localhost:8080/"
        },
        "id": "vgSbOGn3jFCC",
        "outputId": "d6cff1c8-da3e-4e86-dec1-0d651e5bcb5b"
      },
      "execution_count": null,
      "outputs": [
        {
          "output_type": "stream",
          "name": "stdout",
          "text": [
            "{'tracking_category': 'Shopping', 'original_balance': 100.0, 'tracker_budget': 5000.0}\n"
          ]
        }
      ]
    },
    {
      "cell_type": "code",
      "source": [
        "class ExpenseTracker:\n",
        "\n",
        "    #class attribute\n",
        "    expense_version_tracker=0.1\n",
        "\n",
        "    def __init__(self,track_category,original_balance,budget):\n",
        "        #instance/object Attributes\n",
        "        #public attribute\n",
        "        self.tracking_category=track_category\n",
        "        #private attribute\n",
        "        self.__original_balance=original_balance\n",
        "        self.__tracker_budget=budget\n",
        "      \n",
        "    #instance method\n",
        "    #private method\n",
        "    def __get_original_balance(self):\n",
        "        return self.__original_balance\n",
        "\n",
        "    def check_balance(self,limit=1000):\n",
        "        if self.tracker_budget>=limit:\n",
        "            return True\n",
        "        else:\n",
        "            return \"Your opening balance is less than limit\"\n",
        "\n",
        "    @staticmethod\n",
        "    def convert_amount(amount):\n",
        "            return float(amount)\n",
        "\n",
        "    @classmethod\n",
        "    def get_attributes_fromstring(cls,diary_entry:str):\n",
        "        tracking_category,opening_balance,tracker_budget=diary_entry.split(\" \")\n",
        "        return ExpenseTracker(tracking_category.capitalize(),\n",
        "                             cls.convert_amount(opening_balance),\n",
        "                             cls.convert_amount(tracker_budget))\n",
        "        \n",
        "home = ExpenseTracker(\"home\",0,100)\n",
        "\n",
        "print(home.tracking_category)\n",
        "# print(home.original_balance)          -> Cannot be accessed as it is private\n",
        "#print(home.__original_balance)         -> Cannot be accessed as it is private\n",
        "#print(home.__get_original_balance())   -> Cannot be accessed as it is private\n",
        "\n",
        "print(home.__dict__)\n",
        "\n",
        "print(home._ExpenseTracker__original_balance)\n",
        "print(home._ExpenseTracker__tracker_budget)\n",
        "print(home._ExpenseTracker__get_original_balance())"
      ],
      "metadata": {
        "colab": {
          "base_uri": "https://localhost:8080/"
        },
        "id": "5cPKyGs5Aexg",
        "outputId": "56e31e7a-c811-4a6c-f8c4-b28b4d07185f"
      },
      "execution_count": null,
      "outputs": [
        {
          "output_type": "stream",
          "name": "stdout",
          "text": [
            "home\n",
            "{'tracking_category': 'home', '_ExpenseTracker__original_balance': 0, '_ExpenseTracker__tracker_budget': 100}\n",
            "0\n",
            "100\n",
            "0\n"
          ]
        }
      ]
    },
    {
      "cell_type": "markdown",
      "source": [
        "**Inheritance**"
      ],
      "metadata": {
        "id": "dRfqUMXTH5-2"
      }
    },
    {
      "cell_type": "code",
      "source": [
        "# Parent Class\n",
        "class Vehicle():\n",
        "    def __init__(self,make,model,fuel):\n",
        "        self.make=make\n",
        "        self.model=model\n",
        "        self.fuel=fuel\n",
        "\n",
        "# Child Class\n",
        "class Car(Vehicle):\n",
        "    def __init__(self,make,model,fuel,air_conditioning,sunroof):\n",
        "        # Parent Attributes\n",
        "        Vehicle.make=make\n",
        "        Vehicle.model=model\n",
        "        Vehicle.fuel=fuel\n",
        "        self.air_conditioning=air_conditioning\n",
        "        self.sunroof=sunroof\n",
        "\n",
        "myobj = Car(\"Tesla\",2019,\"Electric\",True,True)\n",
        "print(myobj.__dict__)\n",
        "\n",
        "print(myobj.make)\n",
        "print(myobj.model)\n",
        "print(myobj.air_conditioning)"
      ],
      "metadata": {
        "colab": {
          "base_uri": "https://localhost:8080/"
        },
        "id": "rX8IhZz2F5le",
        "outputId": "2bd1cb6d-6f63-490e-b637-458d7e100ffe"
      },
      "execution_count": null,
      "outputs": [
        {
          "output_type": "stream",
          "name": "stdout",
          "text": [
            "{'air_conditioning': True, 'sunroof': True}\n",
            "Tesla\n",
            "2019\n",
            "True\n"
          ]
        }
      ]
    },
    {
      "cell_type": "code",
      "source": [
        "# Parent Class\n",
        "class Vehicle():\n",
        "    def __init__(self,make,model,fuel):\n",
        "        self.make=make\n",
        "        self.__model=model\n",
        "        self.__fuel=fuel\n",
        "\n",
        "    def __private_method_parent(self):\n",
        "        print(\"This is private\")\n",
        "        \n",
        "\n",
        "# Child Class\n",
        "class Car(Vehicle):\n",
        "    def __init__(self,make,model,fuel,air_conditioning,sunroof):\n",
        "        # Parent Attributes\n",
        "        Vehicle.make=make\n",
        "        Vehicle.__model=model\n",
        "        Vehicle.__fuel=fuel\n",
        "        self.air_conditioning=air_conditioning\n",
        "        self.sunroof=sunroof\n",
        "\n",
        "    def show_parent_attribute(self):\n",
        "        print(Vehicle.make,\" \",Vehicle.__model,\" \",Vehicle.__fuel)\n",
        "\n",
        "    def show_privatemethod_ofparent(self):\n",
        "        self._Vehicle__private_method_parent()\n",
        "        \n",
        "myobj = Car(\"Tesla\",2019,\"Electric\",True,True)\n",
        "print(myobj.__dict__)\n",
        "print(myobj.show_parent_attribute())\n",
        "print(myobj.make)\n",
        "#print(myobj.model)       -> Cannot be accessed\n",
        "#print(myobj.__model)\n",
        "#print(myobj.__private_method_parent())\n",
        "print(myobj.show_privatemethod_ofparent())"
      ],
      "metadata": {
        "colab": {
          "base_uri": "https://localhost:8080/"
        },
        "id": "a4Lz2Op7IVH_",
        "outputId": "0e7cdb1b-57da-4fb4-b849-780fb3a9bb06"
      },
      "execution_count": null,
      "outputs": [
        {
          "output_type": "stream",
          "name": "stdout",
          "text": [
            "{'air_conditioning': True, 'sunroof': True}\n",
            "Tesla   2019   Electric\n",
            "None\n",
            "Tesla\n",
            "This is private\n",
            "None\n"
          ]
        }
      ]
    },
    {
      "cell_type": "code",
      "source": [
        "# Parent Class\n",
        "class Vehicle():\n",
        "    def __init__(self,make,model,fuel):\n",
        "        self.make=make\n",
        "        self.__model=model\n",
        "        self.__fuel=fuel\n",
        "\n",
        "    def __private_method_parent(self):\n",
        "        print(\"This is private\")\n",
        "        \n",
        "# Child Class\n",
        "class Car(Vehicle):\n",
        "    def __init__(self,make,model,fuel,air_conditioning,sunroof):\n",
        "        super(Car,self).__init__(make,model,fuel)\n",
        "        self.air_conditioning=air_conditioning\n",
        "        self.sunroof=sunroof\n",
        "\n",
        "myobj = Car(\"Tesla\",2019,\"Electric\",True,True)\n",
        "print(myobj.__dict__)\n",
        "print(myobj.make)\n",
        "print(myobj._Vehicle__private_method_parent())"
      ],
      "metadata": {
        "colab": {
          "base_uri": "https://localhost:8080/"
        },
        "id": "m-jsNDJt60a6",
        "outputId": "0668a6fe-cedb-48ff-d0ac-1231f39b267a"
      },
      "execution_count": null,
      "outputs": [
        {
          "output_type": "stream",
          "name": "stdout",
          "text": [
            "{'make': 'Tesla', '_Vehicle__model': 2019, '_Vehicle__fuel': 'Electric', 'air_conditioning': True, 'sunroof': True}\n",
            "Tesla\n",
            "This is private\n",
            "None \n",
            "\n",
            "\n"
          ]
        }
      ]
    },
    {
      "cell_type": "code",
      "source": [
        "# Multilevel Inheritance\n",
        "\n",
        "#Parent class\n",
        "class Vehicle():\n",
        "    def __init__(self,make,model,fuel):\n",
        "        self.make=make\n",
        "        self.model=model\n",
        "        self.fuel=fuel\n",
        "        \n",
        "#Child Class\n",
        "class Car(Vehicle):\n",
        "    def __init__(self,make,model,fuel,air_conditioning,sunroof):\n",
        "        super(Car,self).__init__(make,model,fuel)\n",
        "        self.air_conditioning=air_conditioning\n",
        "        self._sunroof=sunroof\n",
        "        \n",
        "class ElectricVehcile(Car):\n",
        "    def __init__(self,make,model,fuel,air_conditioning,sunroof,distance):\n",
        "        super(ElectricVehcile,self).__init__(make,model,fuel,air_conditioning,sunroof)\n",
        "        self.distance=distance\n",
        "\n",
        "myobj = ElectricVehcile(\"tesla\",2019,\"Electric\",True,True,500)\n",
        "print(myobj.__dict__)"
      ],
      "metadata": {
        "colab": {
          "base_uri": "https://localhost:8080/"
        },
        "id": "6-tlUnaiIaRO",
        "outputId": "ac1707ff-17f9-41e7-a065-ca38587e32c8"
      },
      "execution_count": null,
      "outputs": [
        {
          "output_type": "stream",
          "name": "stdout",
          "text": [
            "{'make': 'tesla', 'model': 2019, 'fuel': 'Electric', 'air_conditioning': True, '_sunroof': True, 'distance': 500}\n"
          ]
        }
      ]
    },
    {
      "cell_type": "code",
      "source": [
        "# Multiple Inheritance\n",
        "\n",
        "class Car():\n",
        "    def __init__(self,make,model,fuel):\n",
        "        self.make=make\n",
        "        self.model=model\n",
        "        self.fuel=fuel\n",
        "    def get_car_detail(self):\n",
        "        return \"the make of the car is\", self.make,\"from car class\"\n",
        "    \n",
        "class ElectricCar():\n",
        "    def __init__(self,make,model,fuel):\n",
        "        self.make=make\n",
        "        self.model=model\n",
        "        self.fuel=fuel\n",
        "        \n",
        "    def get_car_detail(self):\n",
        "        return \"the make of the car is\",self.make,\"from Electric Car class\"\n",
        "\n",
        "class Taxi(ElectricCar,Car):               # Multiple Inheritance with ElectricCar as higher priority\n",
        "    def __init__(self,make,model,fuel):\n",
        "        super().__init__(make,model,fuel)\n",
        "\n",
        "myobj = Taxi(\"Tesla\",2019,\"electric\")\n",
        "\n",
        "print(myobj.get_car_detail())\n",
        "print(Taxi.__mro__)                       # MRO gives the order in which the priority is given\n",
        "print(Taxi.mro())                         # MRO : Method Resolution Order"
      ],
      "metadata": {
        "colab": {
          "base_uri": "https://localhost:8080/"
        },
        "id": "WO6JUmgP054z",
        "outputId": "c3e68e92-65bc-4d4e-d364-de6466d4bf88"
      },
      "execution_count": null,
      "outputs": [
        {
          "output_type": "stream",
          "name": "stdout",
          "text": [
            "('the make of the car is', 'Tesla', 'from Electric Car class')\n",
            "(<class '__main__.Taxi'>, <class '__main__.ElectricCar'>, <class '__main__.Car'>, <class 'object'>)\n",
            "[<class '__main__.Taxi'>, <class '__main__.ElectricCar'>, <class '__main__.Car'>, <class 'object'>]\n"
          ]
        }
      ]
    },
    {
      "cell_type": "code",
      "source": [
        "class X: pass\n",
        "class Y: pass\n",
        "class Z:pass\n",
        "class A(X,Y):pass\n",
        "class B(Y,Z):pass\n",
        "class C(B,A,Y):pass\n",
        "\n",
        "obj = C()\n",
        "print(C.__mro__)"
      ],
      "metadata": {
        "colab": {
          "base_uri": "https://localhost:8080/"
        },
        "id": "Q1zPSQLO2vU8",
        "outputId": "b053c88b-e60d-49e0-f3ab-28159905bc3a"
      },
      "execution_count": null,
      "outputs": [
        {
          "output_type": "stream",
          "name": "stdout",
          "text": [
            "(<class '__main__.C'>, <class '__main__.B'>, <class '__main__.A'>, <class '__main__.X'>, <class '__main__.Y'>, <class '__main__.Z'>, <class 'object'>)\n"
          ]
        }
      ]
    },
    {
      "cell_type": "code",
      "source": [
        "# Operator Overloading\n",
        "\n",
        "class Vehicle:\n",
        "\n",
        "    def __init__(self,make,model,fare):\n",
        "        self.make=make\n",
        "        self.model=model\n",
        "        self.fare=fare\n",
        "\n",
        "    def __str__(self):\n",
        "        return \"The make of the model is {} and the model is of {} with a fare of {}\".format(self.make,self.model,self.fare)\n",
        "    \n",
        "    def __add__(self,other):\n",
        "        return self.fare+other.fare\n",
        "\n",
        "myob1 = Vehicle(\"Tesla\",2019,40)\n",
        "myob2 = Vehicle(\"ford\",2018,80)\n",
        "print(myob1)\n",
        "print(myob1 + myob2)"
      ],
      "metadata": {
        "colab": {
          "base_uri": "https://localhost:8080/"
        },
        "id": "R5C2GApU45mp",
        "outputId": "165d8da1-8cc0-4746-a8a1-a45d730aa540"
      },
      "execution_count": null,
      "outputs": [
        {
          "output_type": "stream",
          "name": "stdout",
          "text": [
            "The make of the model is Tesla and the model is of 2019 with a fare of 40\n",
            "120\n"
          ]
        }
      ]
    },
    {
      "cell_type": "code",
      "source": [
        "# Abstract Classes and Methods\n",
        "\n",
        "from abc import ABC,abstractmethod\n",
        "class Vehicle(ABC):\n",
        "\n",
        "    @abstractmethod\n",
        "    def get_value(self):\n",
        "        pass\n",
        "\n",
        "class Car(Vehicle):\n",
        "    def __init__(self,make,model,fare):\n",
        "        self.make=make\n",
        "        self.model=model\n",
        "        self.fare=fare\n",
        "\n",
        "    def get_value(self):\n",
        "        return 1000*self.fare\n",
        "\n",
        "myobj = Car(\"Tesla\",2019,40)\n",
        "print(myobj.get_value())"
      ],
      "metadata": {
        "colab": {
          "base_uri": "https://localhost:8080/"
        },
        "id": "eyzsKfBGb33x",
        "outputId": "9788221c-e873-4d07-92f7-d4513b74793e"
      },
      "execution_count": null,
      "outputs": [
        {
          "output_type": "stream",
          "name": "stdout",
          "text": [
            "40000\n"
          ]
        }
      ]
    },
    {
      "cell_type": "code",
      "source": [
        "from abc import ABC,abstractmethod\n",
        "\n",
        "class A(ABC):\n",
        "\n",
        "    @abstractmethod\n",
        "    def fun1(self):\n",
        "        pass\n",
        "\n",
        "    @abstractmethod\n",
        "    def fun2(self):\n",
        "        pass\n",
        "\n",
        "class B(A):\n",
        "\n",
        "    def fun1(self):\n",
        "        print('function 1 called')\n",
        "\n",
        "    def fun2(self):\n",
        "        print('function 2 called')\n",
        "o = B()\n",
        "o.fun1()"
      ],
      "metadata": {
        "colab": {
          "base_uri": "https://localhost:8080/"
        },
        "id": "PJbRatn_jvb9",
        "outputId": "36dd8caa-20f7-453e-db44-3456051b1fac"
      },
      "execution_count": null,
      "outputs": [
        {
          "output_type": "stream",
          "name": "stdout",
          "text": [
            "function 1 called\n"
          ]
        }
      ]
    },
    {
      "cell_type": "code",
      "source": [
        "from abc import ABC,abstractmethod\n",
        "\n",
        "class TextReaderAbstract(ABC):\n",
        "\n",
        "    def __init__(self,path,filename):\n",
        "        self.path=path\n",
        "        self.filename=filename\n",
        "\n",
        "    @abstractmethod #this is just an interface or \"RULE\"\n",
        "    def get_path(self):\n",
        "        pass\n",
        "\n",
        "    @abstractmethod\n",
        "    def get_filename(self):\n",
        "        pass\n",
        "\n",
        "class TextReader(TextReaderAbstract):\n",
        "    def get_path(self):\n",
        "        return self.path\n",
        "    \n",
        "    def get_filename(self):\n",
        "        return self.filename\n",
        "\n",
        "myobj = TextReader(\"/user/download\",\"sample.txt\")\n",
        "print(myobj.get_path())\n",
        "print(myobj.get_filename())"
      ],
      "metadata": {
        "colab": {
          "base_uri": "https://localhost:8080/"
        },
        "id": "ci1j0Px81Lxw",
        "outputId": "569b854a-ec62-4cb8-d4af-7709974b6a2e"
      },
      "execution_count": null,
      "outputs": [
        {
          "output_type": "stream",
          "name": "stdout",
          "text": [
            "/user/download\n",
            "sample.txt\n"
          ]
        }
      ]
    },
    {
      "cell_type": "code",
      "source": [
        "from abc import ABC,abstractmethod\n",
        "\n",
        "class Bank(ABC):\n",
        "    @abstractmethod\n",
        "    def get_interest(self):\n",
        "        pass\n",
        "\n",
        "class HDFC(ABC):\n",
        "    def get_interest(self):\n",
        "        return 8.9\n",
        "\n",
        "myobj = HDFC()\n",
        "print(myobj.get_interest())"
      ],
      "metadata": {
        "colab": {
          "base_uri": "https://localhost:8080/"
        },
        "id": "d8Ipq-437hvj",
        "outputId": "4eeb57ed-e4eb-4233-fbbf-6b5401e887c2"
      },
      "execution_count": null,
      "outputs": [
        {
          "output_type": "stream",
          "name": "stdout",
          "text": [
            "8.9\n"
          ]
        }
      ]
    },
    {
      "cell_type": "code",
      "source": [
        "from abc import ABC,abstractmethod\n",
        "\n",
        "class A(ABC):\n",
        "\n",
        "    @abstractmethod\n",
        "    def fun1(self):\n",
        "        print('function of class A called')\n",
        "\n",
        "    @abstractmethod\n",
        "    def fun2(self):\n",
        "        pass\n",
        "\n",
        "class B(A):\n",
        "    def fun1(self):\n",
        "        print('function 1 called')\n",
        "    def fun2(self):\n",
        "        print('function 2 called')\n",
        "        \n",
        "o = B()\n",
        "o.fun1()"
      ],
      "metadata": {
        "colab": {
          "base_uri": "https://localhost:8080/"
        },
        "id": "KTx6xHir-Xjh",
        "outputId": "628148bd-2c2a-49ca-f3c8-9e77c1f179b9"
      },
      "execution_count": null,
      "outputs": [
        {
          "output_type": "stream",
          "name": "stdout",
          "text": [
            "function 1 called\n"
          ]
        }
      ]
    },
    {
      "cell_type": "code",
      "source": [
        "from abc import ABC,abstractmethod\n",
        "\n",
        "class A(ABC):\n",
        "\n",
        "    @abstractmethod\n",
        "    def fun1(self):\n",
        "        print('function of class A called')\n",
        "\n",
        "    @abstractmethod\n",
        "    def fun2(self):\n",
        "        pass\n",
        "\n",
        "class B(A):\n",
        "    def fun1(self):\n",
        "        super().fun1()\n",
        "    def fun2(self):\n",
        "        print('function 2 called')\n",
        "\n",
        "o = B()\n",
        "o.fun1()"
      ],
      "metadata": {
        "colab": {
          "base_uri": "https://localhost:8080/"
        },
        "id": "cSlHk80L-k5X",
        "outputId": "afda05de-3aa3-40d0-9a87-b61c17946e03"
      },
      "execution_count": null,
      "outputs": [
        {
          "output_type": "stream",
          "name": "stdout",
          "text": [
            "function of class A called\n"
          ]
        }
      ]
    }
  ]
}