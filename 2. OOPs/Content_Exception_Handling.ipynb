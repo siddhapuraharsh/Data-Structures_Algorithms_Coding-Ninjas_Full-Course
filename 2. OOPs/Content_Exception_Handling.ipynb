{
  "nbformat": 4,
  "nbformat_minor": 0,
  "metadata": {
    "colab": {
      "name": "Content_Exception_Handling",
      "provenance": [],
      "collapsed_sections": []
    },
    "kernelspec": {
      "name": "python3",
      "display_name": "Python 3"
    },
    "language_info": {
      "name": "python"
    }
  },
  "cells": [
    {
      "cell_type": "code",
      "execution_count": null,
      "metadata": {
        "colab": {
          "base_uri": "https://localhost:8080/"
        },
        "id": "pxDFav7cKYyM",
        "outputId": "65700654-3d7e-4bd0-e765-d5125c14c4c7"
      },
      "outputs": [
        {
          "output_type": "stream",
          "name": "stdout",
          "text": [
            "Exception occured\n"
          ]
        }
      ],
      "source": [
        "try:\n",
        "    a = 10\n",
        "    b = 0\n",
        "    c = a/b\n",
        "    print(c)\n",
        "except:\n",
        "    print('Exception occured')"
      ]
    },
    {
      "cell_type": "code",
      "source": [
        "class Vehicle():\n",
        "\n",
        "    def __init__(self,make,model,fuel):\n",
        "        self.make=make\n",
        "        self.model=model\n",
        "        self.fuel=fuel\n",
        "\n",
        "    def get_value(self):\n",
        "\n",
        "        try:\n",
        "            age=2021-self.model\n",
        "            return 1000+(1/age)\n",
        "\n",
        "        except TypeError:\n",
        "\n",
        "            try:\n",
        "                age=2021-int(self.model)\n",
        "                return 1000+(1/age)\n",
        "\n",
        "            except ZeroDivisionError:\n",
        "                age=2021-int(self.model)\n",
        "                return 1000*(1)\n",
        "\n",
        "            except:\n",
        "                return \"You have entered Model Year in incorrect format\"\n",
        "            \n",
        "myobj = Vehicle(\"Tesla\",\"2021\",\"Electric\")\n",
        "print(myobj.get_value())"
      ],
      "metadata": {
        "colab": {
          "base_uri": "https://localhost:8080/"
        },
        "id": "JUgq_nauLWQR",
        "outputId": "3e68b429-e569-431b-d8b0-d144e219446a"
      },
      "execution_count": null,
      "outputs": [
        {
          "output_type": "stream",
          "name": "stdout",
          "text": [
            "1000\n"
          ]
        }
      ]
    },
    {
      "cell_type": "code",
      "source": [
        "try:\n",
        "    a = 10\n",
        "    b = 0\n",
        "    print(d)\n",
        "    c = a/b\n",
        "\n",
        "except NameError:\n",
        "    print('Name Error occured')\n",
        "    \n",
        "except ZeroDivisionError:\n",
        "    print('Zero Division Error occured')"
      ],
      "metadata": {
        "colab": {
          "base_uri": "https://localhost:8080/"
        },
        "id": "7NLA1XNHLwFp",
        "outputId": "fcf065cc-d461-4eef-9dae-29aea732720f"
      },
      "execution_count": null,
      "outputs": [
        {
          "output_type": "stream",
          "name": "stdout",
          "text": [
            "Name Error occured\n"
          ]
        }
      ]
    },
    {
      "cell_type": "code",
      "source": [
        "# Custom Exceptions\n",
        "\n",
        "class NegativeCarValue(Exception):\n",
        "  \n",
        "    def __init__(self,value,message=\"car value cannot be negative\"):\n",
        "        self.value=value\n",
        "        self.message=message\n",
        "        super().__init__(self.message)\n",
        "    \n",
        "    def __str__(self):\n",
        "        return f'{self.message}-->{self.value}'\n",
        "\n",
        "class Vehicle():\n",
        "\n",
        "    def __init__(self,make,model,fuel):\n",
        "        self.make=make\n",
        "        self.model=model\n",
        "        self.fuel=fuel\n",
        "        self.current_year=2021\n",
        "\n",
        "    def get_value(self):\n",
        "        age=self.current_year-self.model\n",
        "        if age<0:\n",
        "            raise NegativeCarValue(age)\n",
        "        else:\n",
        "            return 1000*(1/age)\n",
        "\n",
        "myobj = Vehicle(\"Tesla\",2023,\"electric\")\n",
        "print(myobj.get_value())"
      ],
      "metadata": {
        "colab": {
          "base_uri": "https://localhost:8080/",
          "height": 332
        },
        "id": "-1dTNoUNNJTP",
        "outputId": "7dbd6fc6-6df7-4be0-a35f-d5a2708b4a23"
      },
      "execution_count": null,
      "outputs": [
        {
          "output_type": "error",
          "ename": "NegativeCarValue",
          "evalue": "ignored",
          "traceback": [
            "\u001b[0;31m---------------------------------------------------------------------------\u001b[0m",
            "\u001b[0;31mNegativeCarValue\u001b[0m                          Traceback (most recent call last)",
            "\u001b[0;32m<ipython-input-5-96126981ff6a>\u001b[0m in \u001b[0;36m<module>\u001b[0;34m()\u001b[0m\n\u001b[1;32m     27\u001b[0m \u001b[0;34m\u001b[0m\u001b[0m\n\u001b[1;32m     28\u001b[0m \u001b[0mmyobj\u001b[0m \u001b[0;34m=\u001b[0m \u001b[0mVehicle\u001b[0m\u001b[0;34m(\u001b[0m\u001b[0;34m\"Tesla\"\u001b[0m\u001b[0;34m,\u001b[0m\u001b[0;36m2023\u001b[0m\u001b[0;34m,\u001b[0m\u001b[0;34m\"electric\"\u001b[0m\u001b[0;34m)\u001b[0m\u001b[0;34m\u001b[0m\u001b[0;34m\u001b[0m\u001b[0m\n\u001b[0;32m---> 29\u001b[0;31m \u001b[0mprint\u001b[0m\u001b[0;34m(\u001b[0m\u001b[0mmyobj\u001b[0m\u001b[0;34m.\u001b[0m\u001b[0mget_value\u001b[0m\u001b[0;34m(\u001b[0m\u001b[0;34m)\u001b[0m\u001b[0;34m)\u001b[0m\u001b[0;34m\u001b[0m\u001b[0;34m\u001b[0m\u001b[0m\n\u001b[0m",
            "\u001b[0;32m<ipython-input-5-96126981ff6a>\u001b[0m in \u001b[0;36mget_value\u001b[0;34m(self)\u001b[0m\n\u001b[1;32m     22\u001b[0m         \u001b[0mage\u001b[0m\u001b[0;34m=\u001b[0m\u001b[0mself\u001b[0m\u001b[0;34m.\u001b[0m\u001b[0mcurrent_year\u001b[0m\u001b[0;34m-\u001b[0m\u001b[0mself\u001b[0m\u001b[0;34m.\u001b[0m\u001b[0mmodel\u001b[0m\u001b[0;34m\u001b[0m\u001b[0;34m\u001b[0m\u001b[0m\n\u001b[1;32m     23\u001b[0m         \u001b[0;32mif\u001b[0m \u001b[0mage\u001b[0m\u001b[0;34m<\u001b[0m\u001b[0;36m0\u001b[0m\u001b[0;34m:\u001b[0m\u001b[0;34m\u001b[0m\u001b[0;34m\u001b[0m\u001b[0m\n\u001b[0;32m---> 24\u001b[0;31m             \u001b[0;32mraise\u001b[0m \u001b[0mNegativeCarValue\u001b[0m\u001b[0;34m(\u001b[0m\u001b[0mage\u001b[0m\u001b[0;34m)\u001b[0m\u001b[0;34m\u001b[0m\u001b[0;34m\u001b[0m\u001b[0m\n\u001b[0m\u001b[1;32m     25\u001b[0m         \u001b[0;32melse\u001b[0m\u001b[0;34m:\u001b[0m\u001b[0;34m\u001b[0m\u001b[0;34m\u001b[0m\u001b[0m\n\u001b[1;32m     26\u001b[0m             \u001b[0;32mreturn\u001b[0m \u001b[0;36m1000\u001b[0m\u001b[0;34m*\u001b[0m\u001b[0;34m(\u001b[0m\u001b[0;36m1\u001b[0m\u001b[0;34m/\u001b[0m\u001b[0mage\u001b[0m\u001b[0;34m)\u001b[0m\u001b[0;34m\u001b[0m\u001b[0;34m\u001b[0m\u001b[0m\n",
            "\u001b[0;31mNegativeCarValue\u001b[0m: car value cannot be negative-->-2"
          ]
        }
      ]
    },
    {
      "cell_type": "code",
      "source": [
        "class ZeroDenominatorError(Exception):\n",
        "    pass\n",
        "try:\n",
        "    a = 10\n",
        "    b = 0\n",
        "    if(b==0):\n",
        "        raise ZeroDenominatorError() \n",
        "    c = a/b\n",
        "except ZeroDivisionError:\n",
        "    print('Zero Division Error occured')"
      ],
      "metadata": {
        "colab": {
          "base_uri": "https://localhost:8080/",
          "height": 242
        },
        "id": "QWVB_TPlNojt",
        "outputId": "39166c85-aa17-4b17-d785-6bd41be412c8"
      },
      "execution_count": null,
      "outputs": [
        {
          "output_type": "error",
          "ename": "ZeroDenominatorError",
          "evalue": "ignored",
          "traceback": [
            "\u001b[0;31m---------------------------------------------------------------------------\u001b[0m",
            "\u001b[0;31mZeroDenominatorError\u001b[0m                      Traceback (most recent call last)",
            "\u001b[0;32m<ipython-input-6-c9ebb5ac2a06>\u001b[0m in \u001b[0;36m<module>\u001b[0;34m()\u001b[0m\n\u001b[1;32m      5\u001b[0m     \u001b[0mb\u001b[0m \u001b[0;34m=\u001b[0m \u001b[0;36m0\u001b[0m\u001b[0;34m\u001b[0m\u001b[0;34m\u001b[0m\u001b[0m\n\u001b[1;32m      6\u001b[0m     \u001b[0;32mif\u001b[0m\u001b[0;34m(\u001b[0m\u001b[0mb\u001b[0m\u001b[0;34m==\u001b[0m\u001b[0;36m0\u001b[0m\u001b[0;34m)\u001b[0m\u001b[0;34m:\u001b[0m\u001b[0;34m\u001b[0m\u001b[0;34m\u001b[0m\u001b[0m\n\u001b[0;32m----> 7\u001b[0;31m         \u001b[0;32mraise\u001b[0m \u001b[0mZeroDenominatorError\u001b[0m\u001b[0;34m(\u001b[0m\u001b[0;34m)\u001b[0m\u001b[0;34m\u001b[0m\u001b[0;34m\u001b[0m\u001b[0m\n\u001b[0m\u001b[1;32m      8\u001b[0m     \u001b[0mc\u001b[0m \u001b[0;34m=\u001b[0m \u001b[0ma\u001b[0m\u001b[0;34m/\u001b[0m\u001b[0mb\u001b[0m\u001b[0;34m\u001b[0m\u001b[0;34m\u001b[0m\u001b[0m\n\u001b[1;32m      9\u001b[0m \u001b[0;32mexcept\u001b[0m \u001b[0mZeroDivisionError\u001b[0m\u001b[0;34m:\u001b[0m\u001b[0;34m\u001b[0m\u001b[0;34m\u001b[0m\u001b[0m\n",
            "\u001b[0;31mZeroDenominatorError\u001b[0m: "
          ]
        }
      ]
    },
    {
      "cell_type": "code",
      "source": [
        "class NegativeCarValue(Exception):\n",
        "    def __init__(self,value,message=\"car value cannot be negative\"):\n",
        "        self.value=value\n",
        "        self.message=message\n",
        "        super().__init__(self.message)\n",
        "    \n",
        "    def __str__(self):\n",
        "        return f'{self.message}-->{self.value}'\n",
        "\n",
        "class Vehicle():\n",
        "    def __init__(self,make,model,fuel):\n",
        "        self.make=make\n",
        "        self.model=model\n",
        "        self.fuel=fuel\n",
        "        self.current_year=2021\n",
        "\n",
        "    def get_value(self):\n",
        "        age=self.current_year-self.model\n",
        "        try:\n",
        "            if age<0:\n",
        "                raise NegativeCarValue(age)\n",
        "            else:\n",
        "                return 1000*(1/age)\n",
        "        except NegativeCarValue as e:\n",
        "            print(\"Error***\",e)\n",
        "\n",
        "myobj = Vehicle(\"Tesla\",2023,\"electric\")\n",
        "print(myobj.get_value())"
      ],
      "metadata": {
        "colab": {
          "base_uri": "https://localhost:8080/"
        },
        "id": "-akaGLjoOWiM",
        "outputId": "94576ade-4128-4d46-e41e-77eb5a237ff7"
      },
      "execution_count": null,
      "outputs": [
        {
          "output_type": "stream",
          "name": "stdout",
          "text": [
            "Error*** car value cannot be negative-->-2\n",
            "None\n"
          ]
        }
      ]
    },
    {
      "cell_type": "code",
      "source": [
        "class ZeroDenominatorError(ZeroDivisionError):\n",
        "    pass\n",
        "try:\n",
        "    a = 10\n",
        "    b = 0\n",
        "    if(b==0):\n",
        "        raise ZeroDenominatorError()\n",
        "    c = a/b\n",
        "except ZeroDivisionError:\n",
        "    print('Zero Division Error occured')\n",
        "except ZeroDenominatorError:\n",
        "    print('Zero Denominator Error occured')"
      ],
      "metadata": {
        "colab": {
          "base_uri": "https://localhost:8080/"
        },
        "id": "7yH6KcZjOyYR",
        "outputId": "0be4b4af-b1b2-429d-c105-89229195c8a0"
      },
      "execution_count": null,
      "outputs": [
        {
          "output_type": "stream",
          "name": "stdout",
          "text": [
            "Zero Division Error occured\n"
          ]
        }
      ]
    },
    {
      "cell_type": "code",
      "source": [
        "class NegativeZeroModelYear(Exception):\n",
        "    def __init__(self,value,message=\"Model year cannot be equal or greater than 2021\"):\n",
        "        self.value=value\n",
        "        self.message=message\n",
        "        super().__init__(self.message)\n",
        "    \n",
        "    def __str__(self):\n",
        "        return f'{self.message}-->{self.value}'\n",
        "\n",
        "class CarModeYearAsString(Exception):\n",
        "    #Exception if the car value comes as negative\n",
        "    def __init__(self,value,message=\"Model year can not be strings.Try Passing int values\"):\n",
        "        self.value=value\n",
        "        self.message=message\n",
        "        super().init__(self.message)\n",
        "\n",
        "    def __str__(self):\n",
        "        return f'{self.message}-->{self.value}'\n",
        "\n",
        "class Vehicle():\n",
        "    def __init__(self,make,model,fuel):\n",
        "        self.make=make\n",
        "        self.model=model\n",
        "        self.fuel=fuel\n",
        "        self.current_year=2021\n",
        "        self.value=None\n",
        "\n",
        "    def get_value(self):\n",
        "        try:\n",
        "            if type(self.model)==str:\n",
        "                status=\"custom\"\n",
        "                raise CarModelYearAsString(self.model)\n",
        "            elif self.model>=self.current_year:\n",
        "                status=\"custom\"\n",
        "                raise NegativeZeroModelYear(self.model)\n",
        "            else:\n",
        "                self.age=self.current_year-self.model\n",
        "                self.value=1000*(1/self.age)\n",
        "                status=\"success\"\n",
        "        except TypeError:\n",
        "            self.age=self.current_year-int(self.model)\n",
        "            self.value=1000*(1/self.age)\n",
        "            status=\"inbuilt\"\n",
        "        else:\n",
        "            print(\"code ran without any exceptions\")\n",
        "        finally:\n",
        "            if status==\"custom\":\n",
        "                print(\"code has inbuilt exceptions\")\n",
        "            elif status==\"inbuilt\":\n",
        "                print(\"code has inbuilt exceptions,please rectify that\")\n",
        "            else:\n",
        "                print(\"The value without any exception\",self.value)\n",
        "\n",
        "myobj = Vehicle(\"Tesla\",2023,\"electric\")\n",
        "print(myobj.get_value())"
      ],
      "metadata": {
        "colab": {
          "base_uri": "https://localhost:8080/",
          "height": 351
        },
        "id": "fWDcFdRXQR6U",
        "outputId": "eae606d0-d399-400e-cd51-714303216e89"
      },
      "execution_count": null,
      "outputs": [
        {
          "output_type": "stream",
          "name": "stdout",
          "text": [
            "code has inbuilt exceptions\n"
          ]
        },
        {
          "output_type": "error",
          "ename": "NegativeZeroModelYear",
          "evalue": "ignored",
          "traceback": [
            "\u001b[0;31m---------------------------------------------------------------------------\u001b[0m",
            "\u001b[0;31mNegativeZeroModelYear\u001b[0m                     Traceback (most recent call last)",
            "\u001b[0;32m<ipython-input-11-e199c9c4d181>\u001b[0m in \u001b[0;36m<module>\u001b[0;34m()\u001b[0m\n\u001b[1;32m     53\u001b[0m \u001b[0;34m\u001b[0m\u001b[0m\n\u001b[1;32m     54\u001b[0m \u001b[0mmyobj\u001b[0m \u001b[0;34m=\u001b[0m \u001b[0mVehicle\u001b[0m\u001b[0;34m(\u001b[0m\u001b[0;34m\"Tesla\"\u001b[0m\u001b[0;34m,\u001b[0m\u001b[0;36m2023\u001b[0m\u001b[0;34m,\u001b[0m\u001b[0;34m\"electric\"\u001b[0m\u001b[0;34m)\u001b[0m\u001b[0;34m\u001b[0m\u001b[0;34m\u001b[0m\u001b[0m\n\u001b[0;32m---> 55\u001b[0;31m \u001b[0mprint\u001b[0m\u001b[0;34m(\u001b[0m\u001b[0mmyobj\u001b[0m\u001b[0;34m.\u001b[0m\u001b[0mget_value\u001b[0m\u001b[0;34m(\u001b[0m\u001b[0;34m)\u001b[0m\u001b[0;34m)\u001b[0m\u001b[0;34m\u001b[0m\u001b[0;34m\u001b[0m\u001b[0m\n\u001b[0m",
            "\u001b[0;32m<ipython-input-11-e199c9c4d181>\u001b[0m in \u001b[0;36mget_value\u001b[0;34m(self)\u001b[0m\n\u001b[1;32m     33\u001b[0m             \u001b[0;32melif\u001b[0m \u001b[0mself\u001b[0m\u001b[0;34m.\u001b[0m\u001b[0mmodel\u001b[0m\u001b[0;34m>=\u001b[0m\u001b[0mself\u001b[0m\u001b[0;34m.\u001b[0m\u001b[0mcurrent_year\u001b[0m\u001b[0;34m:\u001b[0m\u001b[0;34m\u001b[0m\u001b[0;34m\u001b[0m\u001b[0m\n\u001b[1;32m     34\u001b[0m                 \u001b[0mstatus\u001b[0m\u001b[0;34m=\u001b[0m\u001b[0;34m\"custom\"\u001b[0m\u001b[0;34m\u001b[0m\u001b[0;34m\u001b[0m\u001b[0m\n\u001b[0;32m---> 35\u001b[0;31m                 \u001b[0;32mraise\u001b[0m \u001b[0mNegativeZeroModelYear\u001b[0m\u001b[0;34m(\u001b[0m\u001b[0mself\u001b[0m\u001b[0;34m.\u001b[0m\u001b[0mmodel\u001b[0m\u001b[0;34m)\u001b[0m\u001b[0;34m\u001b[0m\u001b[0;34m\u001b[0m\u001b[0m\n\u001b[0m\u001b[1;32m     36\u001b[0m             \u001b[0;32melse\u001b[0m\u001b[0;34m:\u001b[0m\u001b[0;34m\u001b[0m\u001b[0;34m\u001b[0m\u001b[0m\n\u001b[1;32m     37\u001b[0m                 \u001b[0mself\u001b[0m\u001b[0;34m.\u001b[0m\u001b[0mage\u001b[0m\u001b[0;34m=\u001b[0m\u001b[0mself\u001b[0m\u001b[0;34m.\u001b[0m\u001b[0mcurrent_year\u001b[0m\u001b[0;34m-\u001b[0m\u001b[0mself\u001b[0m\u001b[0;34m.\u001b[0m\u001b[0mmodel\u001b[0m\u001b[0;34m\u001b[0m\u001b[0;34m\u001b[0m\u001b[0m\n",
            "\u001b[0;31mNegativeZeroModelYear\u001b[0m: Model year cannot be equal or greater than 2021-->2023"
          ]
        }
      ]
    },
    {
      "cell_type": "code",
      "source": [
        "class ZeroDenominatorError(ZeroDivisionError):\n",
        "    pass\n",
        "try:\n",
        "    a = 10\n",
        "    b = 0\n",
        "    if(b==0):\n",
        "        raise ZeroDenominatorError()\n",
        "    c = a/b\n",
        "except ZeroDivisionError:\n",
        "    print('Zero Division Error occured',end= ' ')\n",
        "except ZeroDenominatorError:\n",
        "    print('Zero Denominator Error occured',end = ' ')\n",
        "else:\n",
        "    print('else works')"
      ],
      "metadata": {
        "colab": {
          "base_uri": "https://localhost:8080/"
        },
        "id": "WLTihKqfQn5Z",
        "outputId": "70b2168f-f42a-4fd1-f1f5-ff233cb09393"
      },
      "execution_count": null,
      "outputs": [
        {
          "output_type": "stream",
          "name": "stdout",
          "text": [
            "Zero Division Error occured "
          ]
        }
      ]
    },
    {
      "cell_type": "code",
      "source": [
        "class ZeroDenominatorError(ZeroDivisionError):\n",
        "    pass\n",
        "try:\n",
        "    a = 10\n",
        "    b = 5\n",
        "    if(b==0):\n",
        "        raise ZeroDenominatorError()\n",
        "    c = a/b\n",
        "except ZeroDivisionError:\n",
        "    print('Zero Division Error occured',end= ' ')\n",
        "except ZeroDenominatorError:\n",
        "    print('Zero Denominator Error occured',end = ' ')\n",
        "else:\n",
        "    print('else works')\n"
      ],
      "metadata": {
        "colab": {
          "base_uri": "https://localhost:8080/"
        },
        "id": "lUMznDnTQ6gs",
        "outputId": "381e9557-f271-4413-de2b-c2f581c22971"
      },
      "execution_count": null,
      "outputs": [
        {
          "output_type": "stream",
          "name": "stdout",
          "text": [
            "else works\n"
          ]
        }
      ]
    },
    {
      "cell_type": "code",
      "source": [
        "class ZeroDenominatorError(ZeroDivisionError):\n",
        "    pass\n",
        "try:\n",
        "    a = 10\n",
        "    b = 5\n",
        "    if(b==0):\n",
        "        raise ZeroDenominatorError()\n",
        "    c = a/b\n",
        "except ZeroDivisionError:\n",
        "    print('Zero Division Error occured',end= ' ')\n",
        "except ZeroDenominatorError:\n",
        "    print('Zero Denominator Error occured',end = ' ')\n",
        "else:\n",
        "    print('else works',end=' ')\n",
        "finally:\n",
        "    print('finally works')"
      ],
      "metadata": {
        "colab": {
          "base_uri": "https://localhost:8080/"
        },
        "id": "li2hedYRRGTP",
        "outputId": "c8662599-1aaf-4c0f-e647-5a8d58ded296"
      },
      "execution_count": null,
      "outputs": [
        {
          "output_type": "stream",
          "name": "stdout",
          "text": [
            "else works finally works\n"
          ]
        }
      ]
    }
  ]
}